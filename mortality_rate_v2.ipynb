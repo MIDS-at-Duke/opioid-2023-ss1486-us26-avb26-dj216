{
 "cells": [
  {
   "cell_type": "code",
   "execution_count": 1,
   "metadata": {},
   "outputs": [],
   "source": [
    "import pandas as pd \n",
    "\n",
    "with open('Data_Mortality_Rate/pop_data_cdc.txt', 'r') as file:\n",
    "  filedata = file.read()\n",
    "\n",
    "# Replace the target string\n",
    "filedata = filedata.replace(\"\"\"---\"\n",
    "\"Dataset: Bridged-Race Population Estimates 1990-2020\"\n",
    "\"Query Parameters:\"\n",
    "\"Yearly July 1st Estimates: 2003; 2004; 2005; 2006; 2007; 2008; 2009; 2010; 2011; 2012; 2013; 2014; 2015\"\n",
    "\"Group By: State; County; Yearly July 1st Estimates\"\n",
    "\"Show Totals: False\"\n",
    "\"Show Zero Values: True\"\n",
    "\"Data Table: Default\"\n",
    "\"---\"\n",
    "\"Help: See http://wonder.cdc.gov/wonder/help/bridged-race.html for more information.\"\n",
    "\"---\"\n",
    "\"Query Date: Nov 20, 2023 6:21:27 AM\"\n",
    "\"---\"\n",
    "\"Suggested Citation: United States Department of Health and Human Services (US DHHS), Centers for Disease Control and Prevention\"\n",
    "\"(CDC), National Center for Health Statistics (NCHS), Bridged-Race Population Estimates, United States July 1st resident\"\n",
    "\"population by state, county, age, sex, bridged-race, and Hispanic origin. Compiled from 1990-1999 bridged-race intercensal\"\n",
    "\"population estimates (released by NCHS on 7/26/2004); revised bridged-race 2000-2009 intercensal population estimates (released\"\n",
    "\"by NCHS on 10/26/2012); and bridged-race Vintage 2020 (2010-2020) postcensal population estimates (released by NCHS on\"\n",
    "\"9/22/2021). Available on CDC WONDER Online Database. Accessed at http://wonder.cdc.gov/bridged-race-v2020.html on Nov 20, 2023\"\n",
    "\"6:21:27 AM\"\n",
    "\"---\"\n",
    "Footnotes:\n",
    "\"1. Estimates for 1990-1999 are bridged-race intercensal population estimates of the July 1 resident population. Estimates for\"\n",
    "\"2000-2009 are revised bridged-race intercensal estimates of the July 1 resident population. Estimates for 2010-2020 are\"\n",
    "\"bridged-race Vintage 2020 postcensal estimates of the July 1 resident population. These estimates were prepared by the Census\"\n",
    "\"Bureau in collaboration with NCHS.\"\n",
    "\"2. Data are not available for this area for all of the requested years. See Caveats below for more information.\"\n",
    "\"3. Data discontinuity due to county line boundary changes in requested years. See Caveats below for more information.\"\n",
    "\"---\"\n",
    "Caveats:\n",
    "\"1. 'Missing' appears when county data is not available for a certain year. This occurs because geography changes over time. New\"\n",
    "\"counties are created and old counties are deleted or their boundaries are modified..\"\n",
    "\"2. County geography changes over time. New counties are created and old counties are deleted or their boundaries are modified.\"\n",
    "\"The county codes and names for years 1990-1999 are based on Census 2000 geography; those for year 2000 and later are based on\"\n",
    "\"Census 2010 geography.\"\n",
    "\"3. Chugach Census Area, AK, Alaska (FIPS code 02063) was created from the former Valdez-Cordova Census Area (FIPS code 02261)\"\n",
    "\"effective January 2, 2019. This change was made retroactive in the data to the year 2010. Therefore population estimates for\"\n",
    "\"Chugach Census Area are available for years 2010 and later.\"\n",
    "\"4. Copper River Census Area, AK, Alaska (FIPS code 02066) was created from the former Valdez-Cordova Census Area (FIPS code\"\n",
    "\"02261) effective January 2, 2019. This change was made retroactive in the data to the year 2010. Therefore population estimates\"\n",
    "\"for Copper River Census Area are available for years 2010 and later.\"\n",
    "\"5. Hoonah-Angoon Census Area, Alaska (FIPS code 02105) was created from the former Skagway-Hoonah-Angoon Census Area (FIPS code\"\n",
    "\"02232) effective June 20, 2007. This change was made retroactive in the data to the year 2000. Therefore population estimates\"\n",
    "\"for Hoonah-Angoon Census Area are available for years 2000 and later.\"\n",
    "\"6. Ketchikan Gateway Borough, Alaska (FIPS code 02130) annexed most of Outer Ketchikan from the former Prince of Wales-Outer\"\n",
    "\"Ketchikan Census Area (FIPS code 02201) effective May 19, 2008. This change was made retroactive in the data to the year 2000.\"\n",
    "\"Therefore Ketchikan Gateway Borough has a discontinuity in the population estimates between 1999 and 2000 due to the addition of\"\n",
    "\"population.\"\n",
    "\"7. About Petersburg Borough/Census Area, Alaska (FIPS code 02195): Petersburg Census Area was formed on June 1, 2008 from part\"\n",
    "\"of the former Wrangell-Petersburg Census Area (FIPS code 02280). Effective January 3, 2013, Petersburg Census Area ceased to\"\n",
    "\"exist; Petersburg Borough (same FIPS code 02195) was formed from part of Petersburg Census Area and part of Hoonah-Angoon Census\"\n",
    "\"Area (02105). Population estimates for Petersburg Census Area are shown for years 2000-2009. Population estimates for Petersburg\"\n",
    "\"Borough are shown for years after 2010.\"\n",
    "\"8. Prince of Wales-Hyder Census Area, Alaska (FIPS code 02198) was formed on June 1, 2008 from part of the former Prince of\"\n",
    "\"Wales-Outer Ketchikan Census Area (FIPS code 02201). This change was made retroactive in the data to the year 2000. Therefore\"\n",
    "\"population estimates for Prince of Wales-Hyder Census Area are available for years 2000 and later.\"\n",
    "\"9. Prince of Wales-Outer Ketchikan Census Area, Alaska (FIPS code 02201) ceased to exist effective June 1, 2008. The Outer\"\n",
    "\"Ketchikan area was annexed by the Ketchikan Gateway Borough (FIPS code 02130), part was included in Wrangell City and Borough\"\n",
    "\"(FIPS code 02275), and the remainder was renamed Prince of Wales-Hyder Census Area (FIPS code 02198). This change was made\"\n",
    "\"retroactive in the data to the year 2000. Therefore population estimates for Prince of Wales-Outer Ketchikan Census Area are\"\n",
    "\"only available for the years 1990-1999.\"\n",
    "\"10. Skagway Municipality, Alaska (FIPS code 02230) was created from the former Skagway-Hoonah-Angoon Census Area (FIPS code\"\n",
    "\"02232) effective June 20, 2007. This change was made retroactive in the data to the year 2000. Therefore population estimates\"\n",
    "\"for Skagway Municipality are available for years 2000 and later.\"\n",
    "\"11. Skagway-Hoonah-Angoon Census Area, Alaska (FIPS code 02232) ceased to exist effective June 20, 2007. Skagway Municipality\"\n",
    "\"(FIPS code 02230) and Hoonah-Angoon Census Area (FIPS code 02105) were created from the former census area. This change was made\"\n",
    "\"retroactive in the data to the year 2000. Therefore population estimates for Skagway-Hoonah-Angoon Census Area are only\"\n",
    "\"available for the years 1990-1999.\"\n",
    "\"12. Valdez-Cordova Census Area, Alaska (FIPS code 02261) ceased to exist effective January 2, 2019. Chugach Census Area (FIPS\"\n",
    "\"code 02063) and Copper River Census Area (FIPS code 02066) were created from the former census area. This change was made\"\n",
    "\"retroactive in the data to the year 2010. Therefore population estimates for Valdez-Cordova Census Area are only available for\"\n",
    "\"the years 1990-2009.\"\n",
    "\"13. Wade Hampton Census Area, AK (02270) was renamed to Kusilvak Census Area, AK (02158) effective July 1, 2015. This change was\"\n",
    "\"made retroactive in the data to the year 1990.\"\n",
    "\"14. Wrangell City and Borough, Alaska (FIPS code 02275), was formed on June 1, 2008 from part of the former Wrangell-Petersburg\"\n",
    "\"Census Area (FIPS code 02280) and part of the former Prince of Wales-Outer Ketchikan Census Area (FIPS code 02201). This change\"\n",
    "\"was made retroactive in the data to the year 2000. Therefore population estimates for Wrangell City and Borough are available\"\n",
    "\"for years 2000 and later.\"\n",
    "\"15. Wrangell-Petersburg Census Area, Alaska (FIPS code 02280) ceased to exist effective June 1, 2008. Petersburg Census Area\"\n",
    "\"(FIPS code 02195) and Wrangell City and Borough (FIPS code 02275) were created from the former census area. This change was made\"\n",
    "\"retroactive in the data to the year 2000. Therefore population estimates for Wrangell-Petersburg Census Area are only available\"\n",
    "\"for the years 1990-1999.\"\n",
    "\"16. Broomfield County, Colorado (FIPS code 08014), was formed on November 15, 2001 from parts of Adams County (FIPS code 08001),\"\n",
    "\"Boulder County (FIPS code 08013), Jefferson County (FIPS code 08059), and Weld County (FIPS code 08123). This change was made\"\n",
    "\"retroactive in the data to the year 2000. Therefore population estimates for Broomfield county are available for the year 2000\"\n",
    "\"and later. The other counties have a discontinuity in the population estimates between 1999 and 2000 due to the loss of\"\n",
    "\"population.\"\n",
    "\"17. Shannon County, SD (46113) was renamed to Oglala Lakota County, SD (46102) effective July 1, 2015. This change was made\"\n",
    "\"retroactive in the data to the year 1990.\"\n",
    "\"18. Bedford City, Virginia (FIPS code 51515), formerly an independent city, merged with Bedford County (FIPS code 51019) on July\"\n",
    "\"1, 2013. This change was made retroactive in the data to the year 2010. Therefore population estimates for Bedford City are only\"\n",
    "\"available for the years 1990-2009, and Bedford County has a discontinuity in the population estimates between 2009 and 2010 due\"\n",
    "\"to the addition of population.\"\n",
    "\"19. Clifton Forge City, Virginia (FIPS code 51560), formerly an independent city, merged with Alleghany County (FIPS code 51005)\"\n",
    "\"on July 1, 2001. This change was made retroactive in the data to the year 2000. Therefore population estimates for Clifton Forge\"\n",
    "\"City are available only for the years prior to 2000. Alleghany County has a discontinuity in the population estimates between\"\n",
    "\"1999 and 2000 due to the addition of population.\"\n",
    "\"20. South Boston City, Virginia (FIPS code 51780), formerly an independent city, merged with Halifax County (FIPS code 51083) on\"\n",
    "\"June 30, 1995. This change was made retroactive in the data to the year 1990. Therefore, population data for South Boston City\"\n",
    "\"have been reported with Halifax County since year 1990.\"\"\", '')\n",
    "\n",
    "# Write the file out again\n",
    "with open('Data_Mortality_Rate/pop_data_cdc.txt', 'w') as file:\n",
    "  file.write(filedata)\n",
    "\n",
    "with open('Data_Mortality_Rate/pop_data_cdc.txt', 'r') as file:\n",
    "  filedata = file.read()\n",
    "\n",
    "# Replace the target string\n",
    "filedata = filedata.replace('\"', '')\n",
    "\n",
    "# Write the file out again\n",
    "with open('Data_Mortality_Rate/pop_data_cdc.txt', 'w') as file:\n",
    "  file.write(filedata)\n",
    "\n",
    "pop_data = pd.read_csv('Data_Mortality_Rate/pop_data_cdc.txt', delimiter='\\t')\n",
    "\n",
    "pop_data[['CTYNAME','STNAME']] = pop_data['County'].str.split(',', n=1, expand=True)\n",
    "\n",
    "pop_data['STNAME'] = pop_data['STNAME'].str.strip()\n",
    "\n",
    "deaths = pd.read_csv('Data_Mortality_Rate/US_Vital_Stats_Deaths.csv')\n",
    "deaths[['CTYNAME','STNAME']] = deaths['County'].str.split(',', n=1, expand=True)\n",
    "deaths['STNAME'] = deaths['STNAME'].str.strip()"
   ]
  },
  {
   "cell_type": "markdown",
   "metadata": {},
   "source": [
    "### Finding rows with missing values"
   ]
  },
  {
   "cell_type": "code",
   "execution_count": 2,
   "metadata": {},
   "outputs": [],
   "source": [
    "missing_data = deaths.loc[deaths['Deaths'] == 'Missing']"
   ]
  },
  {
   "cell_type": "code",
   "execution_count": 3,
   "metadata": {},
   "outputs": [
    {
     "data": {
      "text/html": [
       "<div>\n",
       "<style scoped>\n",
       "    .dataframe tbody tr th:only-of-type {\n",
       "        vertical-align: middle;\n",
       "    }\n",
       "\n",
       "    .dataframe tbody tr th {\n",
       "        vertical-align: top;\n",
       "    }\n",
       "\n",
       "    .dataframe thead th {\n",
       "        text-align: right;\n",
       "    }\n",
       "</style>\n",
       "<table border=\"1\" class=\"dataframe\">\n",
       "  <thead>\n",
       "    <tr style=\"text-align: right;\">\n",
       "      <th></th>\n",
       "      <th>County</th>\n",
       "      <th>Year</th>\n",
       "    </tr>\n",
       "  </thead>\n",
       "  <tbody>\n",
       "    <tr>\n",
       "      <th>17589</th>\n",
       "      <td>Prince of Wales-Outer Ketchikan Census Area, AK</td>\n",
       "      <td>2015.0</td>\n",
       "    </tr>\n",
       "    <tr>\n",
       "      <th>17598</th>\n",
       "      <td>Skagway-Hoonah-Angoon Census Area, AK</td>\n",
       "      <td>2015.0</td>\n",
       "    </tr>\n",
       "    <tr>\n",
       "      <th>17610</th>\n",
       "      <td>Wrangell-Petersburg Census Area, AK</td>\n",
       "      <td>2015.0</td>\n",
       "    </tr>\n",
       "    <tr>\n",
       "      <th>21881</th>\n",
       "      <td>Bedford city, VA</td>\n",
       "      <td>2015.0</td>\n",
       "    </tr>\n",
       "    <tr>\n",
       "      <th>21895</th>\n",
       "      <td>Clifton Forge city, VA</td>\n",
       "      <td>2015.0</td>\n",
       "    </tr>\n",
       "  </tbody>\n",
       "</table>\n",
       "</div>"
      ],
      "text/plain": [
       "                                                County    Year\n",
       "17589  Prince of Wales-Outer Ketchikan Census Area, AK  2015.0\n",
       "17598            Skagway-Hoonah-Angoon Census Area, AK  2015.0\n",
       "17610              Wrangell-Petersburg Census Area, AK  2015.0\n",
       "21881                                 Bedford city, VA  2015.0\n",
       "21895                           Clifton Forge city, VA  2015.0"
      ]
     },
     "execution_count": 3,
     "metadata": {},
     "output_type": "execute_result"
    }
   ],
   "source": [
    "missing_data[['County','Year']].drop_duplicates()"
   ]
  },
  {
   "cell_type": "markdown",
   "metadata": {},
   "source": [
    "##### Dropping Alaska  and Virginia"
   ]
  },
  {
   "cell_type": "code",
   "execution_count": 4,
   "metadata": {},
   "outputs": [],
   "source": [
    "deaths = deaths.loc[deaths['STNAME'] != 'AK']\n",
    "deaths = deaths.loc[deaths['STNAME'] != 'VA']"
   ]
  },
  {
   "cell_type": "code",
   "execution_count": 5,
   "metadata": {},
   "outputs": [
    {
     "data": {
      "text/plain": [
       "Drug/Alcohol Induced Cause\n",
       "All other non-drug and non-alcohol causes             38294\n",
       "Drug poisonings (overdose) Unintentional (X40-X44)     7317\n",
       "All other alcohol-induced causes                       5963\n",
       "Drug poisonings (overdose) Suicide (X60-X64)           1443\n",
       "Drug poisonings (overdose) Undetermined (Y10-Y14)       755\n",
       "All other drug-induced causes                           623\n",
       "Alcohol poisonings (overdose) (X45, X65, Y15)           336\n",
       "Name: count, dtype: int64"
      ]
     },
     "execution_count": 5,
     "metadata": {},
     "output_type": "execute_result"
    }
   ],
   "source": [
    "deaths['Drug/Alcohol Induced Cause'].value_counts()"
   ]
  },
  {
   "cell_type": "markdown",
   "metadata": {},
   "source": [
    "#### Subset for only drug related deaths"
   ]
  },
  {
   "cell_type": "code",
   "execution_count": 6,
   "metadata": {},
   "outputs": [
    {
     "data": {
      "text/plain": [
       "Drug/Alcohol Induced Cause\n",
       "Drug poisonings (overdose) Unintentional (X40-X44)    7317\n",
       "Drug poisonings (overdose) Suicide (X60-X64)          1443\n",
       "Drug poisonings (overdose) Undetermined (Y10-Y14)      755\n",
       "All other drug-induced causes                          623\n",
       "Name: count, dtype: int64"
      ]
     },
     "execution_count": 6,
     "metadata": {},
     "output_type": "execute_result"
    }
   ],
   "source": [
    "deaths_subset = (deaths.loc[deaths['Drug/Alcohol Induced Cause'].isin(['Drug poisonings (overdose) Unintentional (X40-X44)','Drug poisonings (overdose) Suicide (X60-X64)'\n",
    "                                                                       ,'Drug poisonings (overdose) Undetermined (Y10-Y14)','All other drug-induced causes'])])\n",
    "\n",
    "deaths_subset['Drug/Alcohol Induced Cause'].value_counts()"
   ]
  },
  {
   "cell_type": "code",
   "execution_count": 7,
   "metadata": {},
   "outputs": [],
   "source": [
    "deaths_subset = deaths_subset[['STNAME','CTYNAME','Year','Drug/Alcohol Induced Cause','Deaths']]"
   ]
  },
  {
   "cell_type": "markdown",
   "metadata": {},
   "source": [
    "#### groupby to add deaths for different categories "
   ]
  },
  {
   "cell_type": "code",
   "execution_count": 8,
   "metadata": {},
   "outputs": [],
   "source": [
    "deaths_subset['Deaths'] = deaths_subset['Deaths'].astype(float).astype(int)"
   ]
  },
  {
   "cell_type": "code",
   "execution_count": 9,
   "metadata": {},
   "outputs": [
    {
     "name": "stderr",
     "output_type": "stream",
     "text": [
      "/tmp/ipykernel_57397/410088261.py:1: FutureWarning: The provided callable <built-in function sum> is currently using SeriesGroupBy.sum. In a future version of pandas, the provided callable will be used directly. To keep current behavior pass the string \"sum\" instead.\n",
      "  deaths_subset['Deaths_Total'] = deaths_subset.groupby(['STNAME', 'CTYNAME','Year'])['Deaths'].transform(sum)\n"
     ]
    }
   ],
   "source": [
    "deaths_subset['Deaths_Total'] = deaths_subset.groupby(['STNAME', 'CTYNAME','Year'])['Deaths'].transform(sum)"
   ]
  },
  {
   "cell_type": "code",
   "execution_count": 10,
   "metadata": {},
   "outputs": [],
   "source": [
    "deaths_subset = deaths_subset[['STNAME','CTYNAME','Year','Deaths_Total']].drop_duplicates()\n"
   ]
  },
  {
   "cell_type": "code",
   "execution_count": 11,
   "metadata": {},
   "outputs": [],
   "source": [
    "deaths_subset['Year'] = deaths_subset['Year'].astype('int')\n"
   ]
  },
  {
   "cell_type": "markdown",
   "metadata": {},
   "source": [
    "#### Impute missing values"
   ]
  },
  {
   "cell_type": "code",
   "execution_count": 12,
   "metadata": {},
   "outputs": [
    {
     "data": {
      "text/plain": [
       "Index(['STNAME', 'CTYNAME', 'Year', 'Deaths_Total'], dtype='object')"
      ]
     },
     "execution_count": 12,
     "metadata": {},
     "output_type": "execute_result"
    }
   ],
   "source": [
    "deaths_subset.columns"
   ]
  },
  {
   "cell_type": "code",
   "execution_count": 13,
   "metadata": {},
   "outputs": [],
   "source": [
    "deaths_subset = deaths_subset.sort_values(by=['STNAME', 'CTYNAME', 'Year'],ascending=True)\n"
   ]
  },
  {
   "cell_type": "code",
   "execution_count": 14,
   "metadata": {},
   "outputs": [],
   "source": [
    "# Get unique combinations of State and CTYNAME\n",
    "unique_combinations = deaths_subset[['STNAME', 'CTYNAME']].drop_duplicates()\n",
    "\n",
    "# Convert unique combinations to a list\n",
    "combinations_list = unique_combinations.values.tolist()"
   ]
  },
  {
   "cell_type": "code",
   "execution_count": 15,
   "metadata": {},
   "outputs": [],
   "source": [
    "unique_combinations['Year'] = '2003-2015'"
   ]
  },
  {
   "cell_type": "code",
   "execution_count": 16,
   "metadata": {},
   "outputs": [],
   "source": [
    "unique_combinations['Year'] = [[y for y in range(int(x[:4]), int(x[-4:]) + 1)] \n",
    "                        for x in unique_combinations['Year']]\n",
    "\n",
    "unique_combinations = unique_combinations.explode('Year').reset_index(drop=True)"
   ]
  },
  {
   "cell_type": "markdown",
   "metadata": {},
   "source": [
    "#### merge unique_combinations with deaths subset "
   ]
  },
  {
   "cell_type": "code",
   "execution_count": 17,
   "metadata": {},
   "outputs": [
    {
     "data": {
      "text/plain": [
       "Index(['STNAME', 'CTYNAME', 'Year', 'Deaths_Total'], dtype='object')"
      ]
     },
     "execution_count": 17,
     "metadata": {},
     "output_type": "execute_result"
    }
   ],
   "source": [
    "deaths_subset.columns"
   ]
  },
  {
   "cell_type": "code",
   "execution_count": 18,
   "metadata": {},
   "outputs": [],
   "source": [
    "data_no_missing = pd.merge(unique_combinations, deaths_subset, on=['STNAME', 'CTYNAME', 'Year'] , how=  'left')"
   ]
  },
  {
   "cell_type": "code",
   "execution_count": 19,
   "metadata": {},
   "outputs": [],
   "source": [
    "data_no_missing = data_no_missing.fillna(5)"
   ]
  },
  {
   "cell_type": "markdown",
   "metadata": {},
   "source": [
    "### merge with population dataset "
   ]
  },
  {
   "cell_type": "code",
   "execution_count": 20,
   "metadata": {},
   "outputs": [],
   "source": [
    "stats_abb = pd.read_csv('Data_Mortality_Rate/states_abb.csv')\n",
    "\n",
    "stats_abb = stats_abb.rename(columns={'Abbreviation': 'STNAME'})"
   ]
  },
  {
   "cell_type": "code",
   "execution_count": 21,
   "metadata": {},
   "outputs": [],
   "source": [
    "merge_data = pd.merge(data_no_missing,stats_abb,how='left',on='STNAME')"
   ]
  },
  {
   "cell_type": "code",
   "execution_count": 23,
   "metadata": {},
   "outputs": [],
   "source": [
    "pop_data = pop_data.rename(columns={'Yearly July 1st Estimates': 'Year'})"
   ]
  },
  {
   "cell_type": "code",
   "execution_count": null,
   "metadata": {},
   "outputs": [],
   "source": [
    "final_merge = pd.merge(merge_data,pop_data,how='inner',on=['State','CTYNAME','Year'])"
   ]
  },
  {
   "cell_type": "code",
   "execution_count": 24,
   "metadata": {},
   "outputs": [],
   "source": [
    "final_merge = pd.merge(merge_data,pop_data,how='inner',on=['State','CTYNAME','Year'])"
   ]
  },
  {
   "cell_type": "code",
   "execution_count": 25,
   "metadata": {},
   "outputs": [],
   "source": [
    "final_merge['Deaths_Total'] = final_merge['Deaths_Total'].astype(float).astype(int)\n",
    "\n",
    "final_merge['Population'] = final_merge['Population'].astype(float).astype(int)\n",
    "\n",
    "final_merge['Mortality_Rate'] = final_merge['Deaths_Total'] / final_merge['Population']"
   ]
  },
  {
   "cell_type": "code",
   "execution_count": 28,
   "metadata": {},
   "outputs": [],
   "source": [
    "final_merge = final_merge[['State','CTYNAME','Year','Deaths_Total','Population','Mortality_Rate']]"
   ]
  },
  {
   "cell_type": "code",
   "execution_count": null,
   "metadata": {},
   "outputs": [],
   "source": [
    "final_merge.to_csv('Mortality_Rate_Data.csv')"
   ]
  }
 ],
 "metadata": {
  "kernelspec": {
   "display_name": "Python 3 (ipykernel)",
   "language": "python",
   "name": "python3"
  },
  "language_info": {
   "codemirror_mode": {
    "name": "ipython",
    "version": 3
   },
   "file_extension": ".py",
   "mimetype": "text/x-python",
   "name": "python",
   "nbconvert_exporter": "python",
   "pygments_lexer": "ipython3",
   "version": "3.10.8"
  }
 },
 "nbformat": 4,
 "nbformat_minor": 2
}
