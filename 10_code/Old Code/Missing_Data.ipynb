{
 "cells": [
  {
   "cell_type": "code",
   "execution_count": 1,
   "metadata": {},
   "outputs": [],
   "source": [
    "import pandas as pd"
   ]
  },
  {
   "cell_type": "markdown",
   "metadata": {},
   "source": [
    "#### Read death and population data"
   ]
  },
  {
   "cell_type": "code",
   "execution_count": 2,
   "metadata": {},
   "outputs": [],
   "source": [
    "pop_data = pd.read_csv('Data_Mortality_Rate/pop_data_cdc.txt', delimiter='\\t')\n",
    "pop_data[['CTYNAME','STNAME']] = pop_data['County'].str.split(',', n=1, expand=True)\n",
    "pop_data['STNAME'] = pop_data['STNAME'].str.strip()\n",
    "\n",
    "deaths = pd.read_csv('Data_Mortality_Rate/US_Vital_Stats_Deaths.csv')\n",
    "deaths[['CTYNAME','STNAME']] = deaths['County'].str.split(',', n=1, expand=True)\n",
    "deaths['STNAME'] = deaths['STNAME'].str.strip()"
   ]
  },
  {
   "cell_type": "markdown",
   "metadata": {},
   "source": [
    "### Data Cleaning"
   ]
  },
  {
   "cell_type": "code",
   "execution_count": 3,
   "metadata": {},
   "outputs": [],
   "source": [
    "# Dropping Alaska  and Virginia\n",
    "\n",
    "deaths = deaths.loc[deaths['STNAME'] != 'AK']\n",
    "deaths = deaths.loc[deaths['STNAME'] != 'VA']"
   ]
  },
  {
   "cell_type": "code",
   "execution_count": 4,
   "metadata": {},
   "outputs": [
    {
     "data": {
      "text/plain": [
       "Drug/Alcohol Induced Cause\n",
       "Drug poisonings (overdose) Unintentional (X40-X44)    7317\n",
       "Drug poisonings (overdose) Suicide (X60-X64)          1443\n",
       "Drug poisonings (overdose) Undetermined (Y10-Y14)      755\n",
       "All other drug-induced causes                          623\n",
       "Name: count, dtype: int64"
      ]
     },
     "execution_count": 4,
     "metadata": {},
     "output_type": "execute_result"
    }
   ],
   "source": [
    "deaths_subset = (deaths.loc[deaths['Drug/Alcohol Induced Cause'].isin(['Drug poisonings (overdose) Unintentional (X40-X44)','Drug poisonings (overdose) Suicide (X60-X64)'\n",
    "                                                                       ,'Drug poisonings (overdose) Undetermined (Y10-Y14)','All other drug-induced causes'])])\n",
    "\n",
    "deaths_subset['Drug/Alcohol Induced Cause'].value_counts()"
   ]
  },
  {
   "cell_type": "code",
   "execution_count": 5,
   "metadata": {},
   "outputs": [],
   "source": [
    "deaths_subset = deaths_subset[['STNAME','CTYNAME','Year','Drug/Alcohol Induced Cause','Deaths']]"
   ]
  },
  {
   "cell_type": "code",
   "execution_count": 6,
   "metadata": {},
   "outputs": [],
   "source": [
    "pop_data.rename(columns={'Yearly July 1st Estimates': 'Year'}, inplace=True)\n"
   ]
  },
  {
   "cell_type": "code",
   "execution_count": 7,
   "metadata": {},
   "outputs": [],
   "source": [
    "data_no_missing = pd.merge(deaths_subset, pop_data, on=['STNAME', 'CTYNAME', 'Year'] , how=  'left')\n"
   ]
  },
  {
   "cell_type": "code",
   "execution_count": 8,
   "metadata": {},
   "outputs": [],
   "source": [
    "# calculating Mortality Rate (County Level)\n",
    "df3 = data_no_missing.copy()\n",
    "\n",
    "df3['Deaths'] = df3['Deaths'].astype(float).astype(int)\n",
    "df3['Population'] = df3['Population'].astype('int')\n",
    "\n",
    "df3[\"Mortality_Rate\"] = df3[\"Deaths\"] / df3[\"Population\"]"
   ]
  },
  {
   "cell_type": "code",
   "execution_count": 9,
   "metadata": {},
   "outputs": [],
   "source": [
    "# Mortality Rate (State Level)\n",
    "\n",
    "# aggregate at state-cause level\n",
    "df4 = (\n",
    "    df3.groupby([\"State\", \"Year\", \"Drug/Alcohol Induced Cause\"])\n",
    "    .agg({\"Deaths\": \"sum\", \"Population\": \"sum\"})\n",
    "    .reset_index()\n",
    ")"
   ]
  },
  {
   "cell_type": "code",
   "execution_count": 10,
   "metadata": {},
   "outputs": [],
   "source": [
    "# dropping other categories due to low counts (refer to ipynb file for details)\n",
    "df4 = df4[df4[\"Drug/Alcohol Induced Cause\"] == \"Drug poisonings (overdose) Unintentional (X40-X44)\"]"
   ]
  },
  {
   "cell_type": "code",
   "execution_count": 11,
   "metadata": {},
   "outputs": [],
   "source": [
    "# clacualting mortality rate\n",
    "df4[\"State_Mortality_Rate\"] = df4[\"Deaths\"] / df4[\"Population\"]\n"
   ]
  },
  {
   "cell_type": "code",
   "execution_count": 12,
   "metadata": {},
   "outputs": [],
   "source": [
    "# Creating a list of State-Counties from the POPULATION dataset\n",
    "st_county = pop_data[[\"State\", \"County\", \"County Code\", \"Year\"]].drop_duplicates()"
   ]
  },
  {
   "cell_type": "code",
   "execution_count": 13,
   "metadata": {},
   "outputs": [],
   "source": [
    "# Merging State Mortality Rate with State-County list\n",
    "master = pd.merge(st_county, df4, on=[\"State\", \"Year\"], how=\"left\", indicator=True)"
   ]
  },
  {
   "cell_type": "code",
   "execution_count": 14,
   "metadata": {},
   "outputs": [],
   "source": [
    "# dropping NA rows since we have no state level data for them\n",
    "master = master[master[\"_merge\"] == \"both\"]\n"
   ]
  },
  {
   "cell_type": "code",
   "execution_count": 15,
   "metadata": {},
   "outputs": [],
   "source": [
    "# Cleaning the merged data\n",
    "master_2 = master[\n",
    "    [\n",
    "        \"State\",\n",
    "        \"County\",\n",
    "        \"County Code\",\n",
    "        \"Year\",\n",
    "        \"Drug/Alcohol Induced Cause\",\n",
    "        \"State_Mortality_Rate\",\n",
    "    ]\n",
    "]"
   ]
  },
  {
   "cell_type": "code",
   "execution_count": 16,
   "metadata": {},
   "outputs": [],
   "source": [
    "# merge with the county level data\n",
    "df5 = pd.merge(\n",
    "    master_2,\n",
    "    df3,\n",
    "    on=[\"State\", \"County\", \"County Code\", \"Year\", \"Drug/Alcohol Induced Cause\"],\n",
    "    how=\"left\",\n",
    "    indicator=True,\n",
    "    validate=\"1:1\",\n",
    ")"
   ]
  },
  {
   "cell_type": "code",
   "execution_count": 17,
   "metadata": {},
   "outputs": [],
   "source": [
    "# Remap with population data to get county population\n",
    "df6 = pd.merge(\n",
    "    df5,\n",
    "    pop_data[[\"County Code\", \"Year\", \"Population\"]],\n",
    "    on=[\"County Code\", \"Year\"],\n",
    "    how=\"left\",\n",
    "    validate=\"m:1\",\n",
    "    indicator=\"merge2\",\n",
    ")"
   ]
  },
  {
   "cell_type": "code",
   "execution_count": 18,
   "metadata": {},
   "outputs": [],
   "source": [
    "def new_death(row):\n",
    "    \"\"\"Function to Calcuate the deaths in county using the State Mortality Rate and County Population\n",
    "    if the deaths are missing in the original dataset.\n",
    "    Max value is limited to 9 since we know that it can't be 10 or more\"\"\"\n",
    "\n",
    "    if pd.isna(row[\"Deaths\"]):\n",
    "        return min(int(row[\"Population_y\"] * row[\"State_Mortality_Rate\"]), 9)\n",
    "    else:\n",
    "        return row[\"Deaths\"]"
   ]
  },
  {
   "cell_type": "code",
   "execution_count": 19,
   "metadata": {},
   "outputs": [
    {
     "data": {
      "text/plain": [
       "State                               object\n",
       "County                              object\n",
       "County Code                          int64\n",
       "Year                                 int64\n",
       "Drug/Alcohol Induced Cause          object\n",
       "State_Mortality_Rate               float64\n",
       "STNAME                              object\n",
       "CTYNAME                             object\n",
       "Deaths                             float64\n",
       "Notes                              float64\n",
       "State Code                         float64\n",
       "Yearly July 1st Estimates Code     float64\n",
       "Population_x                       float64\n",
       "Mortality_Rate                     float64\n",
       "_merge                            category\n",
       "Population_y                        object\n",
       "merge2                            category\n",
       "dtype: object"
      ]
     },
     "execution_count": 19,
     "metadata": {},
     "output_type": "execute_result"
    }
   ],
   "source": [
    "df6.dtypes"
   ]
  },
  {
   "cell_type": "code",
   "execution_count": 20,
   "metadata": {},
   "outputs": [],
   "source": [
    "# calautating the Final Deaths by using the new_death function\n",
    "df6['State_Mortality_Rate'] = pd.to_numeric(df6['State_Mortality_Rate'], errors='coerce')\n",
    "df6['Population_y'] = pd.to_numeric(df6['Population_y'], errors='coerce')\n",
    "\n",
    "# Perform multiplication after ensuring numeric data types\n",
    "df6['Deaths_2'] = df6.apply(lambda row: min(int(row['Population_y'] * row['State_Mortality_Rate']), 9)\n",
    "                          if pd.isna(row['Deaths']) else row['Deaths'], axis=1)"
   ]
  },
  {
   "cell_type": "code",
   "execution_count": 21,
   "metadata": {},
   "outputs": [],
   "source": [
    "# Cleaning the dataset\n",
    "df8 = df6[\n",
    "    [\n",
    "        \"State\",\n",
    "        \"County\",\n",
    "        \"County Code\",\n",
    "        \"Year\",\n",
    "        \"Drug/Alcohol Induced Cause\",\n",
    "        \"Deaths_2\",\n",
    "        \"Population_y\",\n",
    "    ]\n",
    "]"
   ]
  },
  {
   "cell_type": "code",
   "execution_count": 22,
   "metadata": {},
   "outputs": [],
   "source": [
    "df8 = df8.rename(columns={\"Population_y\": \"Population\", \"Deaths_2\": \"Deaths\"})\n",
    "\n",
    "# ------------------------------------------\n",
    "# aggregate at County level\n",
    "df9 = (\n",
    "    df8.groupby([\"State\", \"County\", \"County Code\", \"Year\"])\n",
    "    .agg({\"Deaths\": \"sum\", \"Population\": \"mean\"})\n",
    "    .reset_index()\n",
    ")\n",
    "\n",
    "# ------------------------------------------\n",
    "# calculating Final Mortality Rate (County Level)\n",
    "df9[\"Mortality_Rate\"] = df9[\"Deaths\"] / df9[\"Population\"]\n",
    "df9['Mortality_Rate_Per_100k'] = df9['Mortality_Rate'] * 100000"
   ]
  },
  {
   "cell_type": "code",
   "execution_count": 23,
   "metadata": {},
   "outputs": [
    {
     "data": {
      "text/html": [
       "<div>\n",
       "<style scoped>\n",
       "    .dataframe tbody tr th:only-of-type {\n",
       "        vertical-align: middle;\n",
       "    }\n",
       "\n",
       "    .dataframe tbody tr th {\n",
       "        vertical-align: top;\n",
       "    }\n",
       "\n",
       "    .dataframe thead th {\n",
       "        text-align: right;\n",
       "    }\n",
       "</style>\n",
       "<table border=\"1\" class=\"dataframe\">\n",
       "  <thead>\n",
       "    <tr style=\"text-align: right;\">\n",
       "      <th></th>\n",
       "      <th>State</th>\n",
       "      <th>County</th>\n",
       "      <th>County Code</th>\n",
       "      <th>Year</th>\n",
       "      <th>Deaths</th>\n",
       "      <th>Population</th>\n",
       "      <th>Mortality_Rate</th>\n",
       "      <th>Mortality_Rate_Per_100k</th>\n",
       "    </tr>\n",
       "  </thead>\n",
       "  <tbody>\n",
       "    <tr>\n",
       "      <th>0</th>\n",
       "      <td>Alabama</td>\n",
       "      <td>Autauga County, AL</td>\n",
       "      <td>1001</td>\n",
       "      <td>2003</td>\n",
       "      <td>2.0</td>\n",
       "      <td>46800.0</td>\n",
       "      <td>0.000043</td>\n",
       "      <td>4.273504</td>\n",
       "    </tr>\n",
       "    <tr>\n",
       "      <th>1</th>\n",
       "      <td>Alabama</td>\n",
       "      <td>Autauga County, AL</td>\n",
       "      <td>1001</td>\n",
       "      <td>2004</td>\n",
       "      <td>3.0</td>\n",
       "      <td>48366.0</td>\n",
       "      <td>0.000062</td>\n",
       "      <td>6.202704</td>\n",
       "    </tr>\n",
       "    <tr>\n",
       "      <th>2</th>\n",
       "      <td>Alabama</td>\n",
       "      <td>Autauga County, AL</td>\n",
       "      <td>1001</td>\n",
       "      <td>2005</td>\n",
       "      <td>3.0</td>\n",
       "      <td>49676.0</td>\n",
       "      <td>0.000060</td>\n",
       "      <td>6.039134</td>\n",
       "    </tr>\n",
       "    <tr>\n",
       "      <th>3</th>\n",
       "      <td>Alabama</td>\n",
       "      <td>Autauga County, AL</td>\n",
       "      <td>1001</td>\n",
       "      <td>2006</td>\n",
       "      <td>4.0</td>\n",
       "      <td>51328.0</td>\n",
       "      <td>0.000078</td>\n",
       "      <td>7.793017</td>\n",
       "    </tr>\n",
       "    <tr>\n",
       "      <th>4</th>\n",
       "      <td>Alabama</td>\n",
       "      <td>Autauga County, AL</td>\n",
       "      <td>1001</td>\n",
       "      <td>2007</td>\n",
       "      <td>6.0</td>\n",
       "      <td>52405.0</td>\n",
       "      <td>0.000114</td>\n",
       "      <td>11.449289</td>\n",
       "    </tr>\n",
       "    <tr>\n",
       "      <th>5</th>\n",
       "      <td>Alabama</td>\n",
       "      <td>Autauga County, AL</td>\n",
       "      <td>1001</td>\n",
       "      <td>2008</td>\n",
       "      <td>6.0</td>\n",
       "      <td>53277.0</td>\n",
       "      <td>0.000113</td>\n",
       "      <td>11.261895</td>\n",
       "    </tr>\n",
       "    <tr>\n",
       "      <th>6</th>\n",
       "      <td>Alabama</td>\n",
       "      <td>Autauga County, AL</td>\n",
       "      <td>1001</td>\n",
       "      <td>2009</td>\n",
       "      <td>6.0</td>\n",
       "      <td>54135.0</td>\n",
       "      <td>0.000111</td>\n",
       "      <td>11.083403</td>\n",
       "    </tr>\n",
       "    <tr>\n",
       "      <th>7</th>\n",
       "      <td>Alabama</td>\n",
       "      <td>Autauga County, AL</td>\n",
       "      <td>1001</td>\n",
       "      <td>2010</td>\n",
       "      <td>6.0</td>\n",
       "      <td>54761.0</td>\n",
       "      <td>0.000110</td>\n",
       "      <td>10.956703</td>\n",
       "    </tr>\n",
       "    <tr>\n",
       "      <th>8</th>\n",
       "      <td>Alabama</td>\n",
       "      <td>Autauga County, AL</td>\n",
       "      <td>1001</td>\n",
       "      <td>2011</td>\n",
       "      <td>6.0</td>\n",
       "      <td>55229.0</td>\n",
       "      <td>0.000109</td>\n",
       "      <td>10.863858</td>\n",
       "    </tr>\n",
       "    <tr>\n",
       "      <th>9</th>\n",
       "      <td>Alabama</td>\n",
       "      <td>Autauga County, AL</td>\n",
       "      <td>1001</td>\n",
       "      <td>2012</td>\n",
       "      <td>6.0</td>\n",
       "      <td>54970.0</td>\n",
       "      <td>0.000109</td>\n",
       "      <td>10.915045</td>\n",
       "    </tr>\n",
       "  </tbody>\n",
       "</table>\n",
       "</div>"
      ],
      "text/plain": [
       "     State              County  County Code  Year  Deaths  Population  \\\n",
       "0  Alabama  Autauga County, AL         1001  2003     2.0     46800.0   \n",
       "1  Alabama  Autauga County, AL         1001  2004     3.0     48366.0   \n",
       "2  Alabama  Autauga County, AL         1001  2005     3.0     49676.0   \n",
       "3  Alabama  Autauga County, AL         1001  2006     4.0     51328.0   \n",
       "4  Alabama  Autauga County, AL         1001  2007     6.0     52405.0   \n",
       "5  Alabama  Autauga County, AL         1001  2008     6.0     53277.0   \n",
       "6  Alabama  Autauga County, AL         1001  2009     6.0     54135.0   \n",
       "7  Alabama  Autauga County, AL         1001  2010     6.0     54761.0   \n",
       "8  Alabama  Autauga County, AL         1001  2011     6.0     55229.0   \n",
       "9  Alabama  Autauga County, AL         1001  2012     6.0     54970.0   \n",
       "\n",
       "   Mortality_Rate  Mortality_Rate_Per_100k  \n",
       "0        0.000043                 4.273504  \n",
       "1        0.000062                 6.202704  \n",
       "2        0.000060                 6.039134  \n",
       "3        0.000078                 7.793017  \n",
       "4        0.000114                11.449289  \n",
       "5        0.000113                11.261895  \n",
       "6        0.000111                11.083403  \n",
       "7        0.000110                10.956703  \n",
       "8        0.000109                10.863858  \n",
       "9        0.000109                10.915045  "
      ]
     },
     "execution_count": 23,
     "metadata": {},
     "output_type": "execute_result"
    }
   ],
   "source": [
    "df9.head(10)"
   ]
  }
 ],
 "metadata": {
  "kernelspec": {
   "display_name": "Python 3",
   "language": "python",
   "name": "python3"
  },
  "language_info": {
   "codemirror_mode": {
    "name": "ipython",
    "version": 3
   },
   "file_extension": ".py",
   "mimetype": "text/x-python",
   "name": "python",
   "nbconvert_exporter": "python",
   "pygments_lexer": "ipython3",
   "version": "3.10.13"
  }
 },
 "nbformat": 4,
 "nbformat_minor": 2
}
