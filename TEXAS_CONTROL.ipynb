{
 "cells": [
  {
   "cell_type": "markdown",
   "metadata": {},
   "source": [
    "# POPULATION  2010"
   ]
  },
  {
   "cell_type": "markdown",
   "metadata": {},
   "source": [
    "# TEXAS 2010"
   ]
  },
  {
   "cell_type": "code",
   "execution_count": 17,
   "metadata": {},
   "outputs": [
    {
     "data": {
      "text/plain": [
       "24311891"
      ]
     },
     "execution_count": 17,
     "metadata": {},
     "output_type": "execute_result"
    }
   ],
   "source": [
    "import pandas as pd\n",
    "\n",
    "data = pd.read_csv(\n",
    "    \"https://github.com/wpinvestigative/arcos-api/raw/master/data/pop_counties_20062014.csv\"\n",
    ")\n",
    "data.head()\n",
    "\n",
    "# Corrected line for filtering Texas and the year 2010\n",
    "texas_2010 = data[(data[\"BUYER_STATE\"] == \"TX\") & (data[\"year\"] == 2010)]\n",
    "\n",
    "texas_2010.head()\n",
    "texas_counties_count = texas_2010[\"COUNTY\"].nunique()\n",
    "texas_counties_count\n",
    "# There were 254 counties in Texas in 2010.\n",
    "texas_2010.head()\n",
    "total_population_texas = texas_2010[\"population\"].sum()\n",
    "total_population_texas\n",
    "# Texas population in 2010 as per this dataset was 24311891."
   ]
  },
  {
   "cell_type": "markdown",
   "metadata": {},
   "source": [
    "# ARIZONA"
   ]
  },
  {
   "cell_type": "code",
   "execution_count": 21,
   "metadata": {},
   "outputs": [
    {
     "data": {
      "text/html": [
       "<div>\n",
       "<style scoped>\n",
       "    .dataframe tbody tr th:only-of-type {\n",
       "        vertical-align: middle;\n",
       "    }\n",
       "\n",
       "    .dataframe tbody tr th {\n",
       "        vertical-align: top;\n",
       "    }\n",
       "\n",
       "    .dataframe thead th {\n",
       "        text-align: right;\n",
       "    }\n",
       "</style>\n",
       "<table border=\"1\" class=\"dataframe\">\n",
       "  <thead>\n",
       "    <tr style=\"text-align: right;\">\n",
       "      <th></th>\n",
       "      <th>BUYER_COUNTY</th>\n",
       "      <th>BUYER_STATE</th>\n",
       "      <th>countyfips</th>\n",
       "      <th>STATE</th>\n",
       "      <th>COUNTY</th>\n",
       "      <th>county_name</th>\n",
       "      <th>NAME</th>\n",
       "      <th>variable</th>\n",
       "      <th>year</th>\n",
       "      <th>population</th>\n",
       "    </tr>\n",
       "  </thead>\n",
       "  <tbody>\n",
       "    <tr>\n",
       "      <th>12658</th>\n",
       "      <td>APACHE</td>\n",
       "      <td>AZ</td>\n",
       "      <td>4001</td>\n",
       "      <td>4</td>\n",
       "      <td>1</td>\n",
       "      <td>Apache</td>\n",
       "      <td>Apache County, Arizona</td>\n",
       "      <td>B01003_001</td>\n",
       "      <td>2010</td>\n",
       "      <td>70312</td>\n",
       "    </tr>\n",
       "    <tr>\n",
       "      <th>12659</th>\n",
       "      <td>COCHISE</td>\n",
       "      <td>AZ</td>\n",
       "      <td>4003</td>\n",
       "      <td>4</td>\n",
       "      <td>3</td>\n",
       "      <td>Cochise</td>\n",
       "      <td>Cochise County, Arizona</td>\n",
       "      <td>B01003_001</td>\n",
       "      <td>2010</td>\n",
       "      <td>129268</td>\n",
       "    </tr>\n",
       "    <tr>\n",
       "      <th>12660</th>\n",
       "      <td>COCONINO</td>\n",
       "      <td>AZ</td>\n",
       "      <td>4005</td>\n",
       "      <td>4</td>\n",
       "      <td>5</td>\n",
       "      <td>Coconino</td>\n",
       "      <td>Coconino County, Arizona</td>\n",
       "      <td>B01003_001</td>\n",
       "      <td>2010</td>\n",
       "      <td>131824</td>\n",
       "    </tr>\n",
       "    <tr>\n",
       "      <th>12661</th>\n",
       "      <td>GILA</td>\n",
       "      <td>AZ</td>\n",
       "      <td>4007</td>\n",
       "      <td>4</td>\n",
       "      <td>7</td>\n",
       "      <td>Gila</td>\n",
       "      <td>Gila County, Arizona</td>\n",
       "      <td>B01003_001</td>\n",
       "      <td>2010</td>\n",
       "      <td>53272</td>\n",
       "    </tr>\n",
       "    <tr>\n",
       "      <th>12662</th>\n",
       "      <td>GRAHAM</td>\n",
       "      <td>AZ</td>\n",
       "      <td>4009</td>\n",
       "      <td>4</td>\n",
       "      <td>9</td>\n",
       "      <td>Graham</td>\n",
       "      <td>Graham County, Arizona</td>\n",
       "      <td>B01003_001</td>\n",
       "      <td>2010</td>\n",
       "      <td>36030</td>\n",
       "    </tr>\n",
       "    <tr>\n",
       "      <th>12663</th>\n",
       "      <td>GREENLEE</td>\n",
       "      <td>AZ</td>\n",
       "      <td>4011</td>\n",
       "      <td>4</td>\n",
       "      <td>11</td>\n",
       "      <td>Greenlee</td>\n",
       "      <td>Greenlee County, Arizona</td>\n",
       "      <td>B01003_001</td>\n",
       "      <td>2010</td>\n",
       "      <td>8318</td>\n",
       "    </tr>\n",
       "    <tr>\n",
       "      <th>12664</th>\n",
       "      <td>LA PAZ</td>\n",
       "      <td>AZ</td>\n",
       "      <td>4012</td>\n",
       "      <td>4</td>\n",
       "      <td>12</td>\n",
       "      <td>La Paz</td>\n",
       "      <td>La Paz County, Arizona</td>\n",
       "      <td>B01003_001</td>\n",
       "      <td>2010</td>\n",
       "      <td>20549</td>\n",
       "    </tr>\n",
       "    <tr>\n",
       "      <th>12665</th>\n",
       "      <td>MARICOPA</td>\n",
       "      <td>AZ</td>\n",
       "      <td>4013</td>\n",
       "      <td>4</td>\n",
       "      <td>13</td>\n",
       "      <td>Maricopa</td>\n",
       "      <td>Maricopa County, Arizona</td>\n",
       "      <td>B01003_001</td>\n",
       "      <td>2010</td>\n",
       "      <td>3751410</td>\n",
       "    </tr>\n",
       "    <tr>\n",
       "      <th>12666</th>\n",
       "      <td>MOHAVE</td>\n",
       "      <td>AZ</td>\n",
       "      <td>4015</td>\n",
       "      <td>4</td>\n",
       "      <td>15</td>\n",
       "      <td>Mohave</td>\n",
       "      <td>Mohave County, Arizona</td>\n",
       "      <td>B01003_001</td>\n",
       "      <td>2010</td>\n",
       "      <td>199177</td>\n",
       "    </tr>\n",
       "    <tr>\n",
       "      <th>12667</th>\n",
       "      <td>NAVAJO</td>\n",
       "      <td>AZ</td>\n",
       "      <td>4017</td>\n",
       "      <td>4</td>\n",
       "      <td>17</td>\n",
       "      <td>Navajo</td>\n",
       "      <td>Navajo County, Arizona</td>\n",
       "      <td>B01003_001</td>\n",
       "      <td>2010</td>\n",
       "      <td>107060</td>\n",
       "    </tr>\n",
       "    <tr>\n",
       "      <th>12668</th>\n",
       "      <td>PIMA</td>\n",
       "      <td>AZ</td>\n",
       "      <td>4019</td>\n",
       "      <td>4</td>\n",
       "      <td>19</td>\n",
       "      <td>Pima</td>\n",
       "      <td>Pima County, Arizona</td>\n",
       "      <td>B01003_001</td>\n",
       "      <td>2010</td>\n",
       "      <td>964462</td>\n",
       "    </tr>\n",
       "    <tr>\n",
       "      <th>12669</th>\n",
       "      <td>PINAL</td>\n",
       "      <td>AZ</td>\n",
       "      <td>4021</td>\n",
       "      <td>4</td>\n",
       "      <td>21</td>\n",
       "      <td>Pinal</td>\n",
       "      <td>Pinal County, Arizona</td>\n",
       "      <td>B01003_001</td>\n",
       "      <td>2010</td>\n",
       "      <td>329297</td>\n",
       "    </tr>\n",
       "    <tr>\n",
       "      <th>12670</th>\n",
       "      <td>SANTA CRUZ</td>\n",
       "      <td>AZ</td>\n",
       "      <td>4023</td>\n",
       "      <td>4</td>\n",
       "      <td>23</td>\n",
       "      <td>Santa Cruz</td>\n",
       "      <td>Santa Cruz County, Arizona</td>\n",
       "      <td>B01003_001</td>\n",
       "      <td>2010</td>\n",
       "      <td>46051</td>\n",
       "    </tr>\n",
       "    <tr>\n",
       "      <th>12671</th>\n",
       "      <td>YAVAPAI</td>\n",
       "      <td>AZ</td>\n",
       "      <td>4025</td>\n",
       "      <td>4</td>\n",
       "      <td>25</td>\n",
       "      <td>Yavapai</td>\n",
       "      <td>Yavapai County, Arizona</td>\n",
       "      <td>B01003_001</td>\n",
       "      <td>2010</td>\n",
       "      <td>209260</td>\n",
       "    </tr>\n",
       "    <tr>\n",
       "      <th>12672</th>\n",
       "      <td>YUMA</td>\n",
       "      <td>AZ</td>\n",
       "      <td>4027</td>\n",
       "      <td>4</td>\n",
       "      <td>27</td>\n",
       "      <td>Yuma</td>\n",
       "      <td>Yuma County, Arizona</td>\n",
       "      <td>B01003_001</td>\n",
       "      <td>2010</td>\n",
       "      <td>190526</td>\n",
       "    </tr>\n",
       "  </tbody>\n",
       "</table>\n",
       "</div>"
      ],
      "text/plain": [
       "      BUYER_COUNTY BUYER_STATE  countyfips  STATE  COUNTY county_name  \\\n",
       "12658       APACHE          AZ        4001      4       1      Apache   \n",
       "12659      COCHISE          AZ        4003      4       3     Cochise   \n",
       "12660     COCONINO          AZ        4005      4       5    Coconino   \n",
       "12661         GILA          AZ        4007      4       7        Gila   \n",
       "12662       GRAHAM          AZ        4009      4       9      Graham   \n",
       "12663     GREENLEE          AZ        4011      4      11    Greenlee   \n",
       "12664       LA PAZ          AZ        4012      4      12      La Paz   \n",
       "12665     MARICOPA          AZ        4013      4      13    Maricopa   \n",
       "12666       MOHAVE          AZ        4015      4      15      Mohave   \n",
       "12667       NAVAJO          AZ        4017      4      17      Navajo   \n",
       "12668         PIMA          AZ        4019      4      19        Pima   \n",
       "12669        PINAL          AZ        4021      4      21       Pinal   \n",
       "12670   SANTA CRUZ          AZ        4023      4      23  Santa Cruz   \n",
       "12671      YAVAPAI          AZ        4025      4      25     Yavapai   \n",
       "12672         YUMA          AZ        4027      4      27        Yuma   \n",
       "\n",
       "                             NAME    variable  year  population  \n",
       "12658      Apache County, Arizona  B01003_001  2010       70312  \n",
       "12659     Cochise County, Arizona  B01003_001  2010      129268  \n",
       "12660    Coconino County, Arizona  B01003_001  2010      131824  \n",
       "12661        Gila County, Arizona  B01003_001  2010       53272  \n",
       "12662      Graham County, Arizona  B01003_001  2010       36030  \n",
       "12663    Greenlee County, Arizona  B01003_001  2010        8318  \n",
       "12664      La Paz County, Arizona  B01003_001  2010       20549  \n",
       "12665    Maricopa County, Arizona  B01003_001  2010     3751410  \n",
       "12666      Mohave County, Arizona  B01003_001  2010      199177  \n",
       "12667      Navajo County, Arizona  B01003_001  2010      107060  \n",
       "12668        Pima County, Arizona  B01003_001  2010      964462  \n",
       "12669       Pinal County, Arizona  B01003_001  2010      329297  \n",
       "12670  Santa Cruz County, Arizona  B01003_001  2010       46051  \n",
       "12671     Yavapai County, Arizona  B01003_001  2010      209260  \n",
       "12672        Yuma County, Arizona  B01003_001  2010      190526  "
      ]
     },
     "execution_count": 21,
     "metadata": {},
     "output_type": "execute_result"
    }
   ],
   "source": [
    "import pandas as pd\n",
    "\n",
    "data = pd.read_csv(\n",
    "    \"https://github.com/wpinvestigative/arcos-api/raw/master/data/pop_counties_20062014.csv\"\n",
    ")\n",
    "data.head()\n",
    "\n",
    "# Corrected line for filtering Texas and the year 2010\n",
    "arizona_2010 = data[(data[\"BUYER_STATE\"] == \"AZ\") & (data[\"year\"] == 2010)]\n",
    "\n",
    "arizona_2010.head()\n",
    "arizona_counties_count = arizona_2010[\"COUNTY\"].nunique()\n",
    "arizona_counties_count\n",
    "# There were 15 counties in Arizona in 2010.\n",
    "arizona_2010.head()\n",
    "total_population_arizona = arizona_2010[\"population\"].sum()\n",
    "total_population_arizona\n",
    "# Arizona population in 2010 as per this dataset was 6246816.\n",
    "arizona_2010"
   ]
  },
  {
   "cell_type": "markdown",
   "metadata": {},
   "source": [
    "# New Mexico"
   ]
  },
  {
   "cell_type": "code",
   "execution_count": 26,
   "metadata": {},
   "outputs": [
    {
     "data": {
      "text/plain": [
       "33"
      ]
     },
     "execution_count": 26,
     "metadata": {},
     "output_type": "execute_result"
    }
   ],
   "source": [
    "import pandas as pd\n",
    "\n",
    "data = pd.read_csv(\n",
    "    \"https://github.com/wpinvestigative/arcos-api/raw/master/data/pop_counties_20062014.csv\"\n",
    ")\n",
    "data.head()\n",
    "\n",
    "# Corrected line for filtering Texas and the year 2010\n",
    "NM_2010 = data[(data[\"BUYER_STATE\"] == \"NM\") & (data[\"year\"] == 2010)]\n",
    "\n",
    "NM_2010.head()\n",
    "NM_counties_count = NM_2010[\"COUNTY\"].nunique()\n",
    "NM_counties_count\n",
    "# There were 33 counties in NM in 2010.\n",
    "NM_2010.head()\n",
    "total_population_NM = NM_2010[\"population\"].sum()\n",
    "total_population_NM\n",
    "# New Mexico population in 2010 as per this dataset was 2013122.\n",
    "NM_2010\n",
    "total_population_NM\n",
    "NM_counties_count"
   ]
  },
  {
   "cell_type": "markdown",
   "metadata": {},
   "source": [
    "# Louisiana"
   ]
  },
  {
   "cell_type": "code",
   "execution_count": 29,
   "metadata": {},
   "outputs": [
    {
     "data": {
      "text/plain": [
       "4429940"
      ]
     },
     "execution_count": 29,
     "metadata": {},
     "output_type": "execute_result"
    }
   ],
   "source": [
    "import pandas as pd\n",
    "\n",
    "data = pd.read_csv(\n",
    "    \"https://github.com/wpinvestigative/arcos-api/raw/master/data/pop_counties_20062014.csv\"\n",
    ")\n",
    "data.head()\n",
    "\n",
    "# Corrected line for filtering Texas and the year 2010\n",
    "LA_2010 = data[(data[\"BUYER_STATE\"] == \"LA\") & (data[\"year\"] == 2010)]\n",
    "\n",
    "LA_2010.head()\n",
    "LA_counties_count = LA_2010[\"COUNTY\"].nunique()\n",
    "LA_counties_count\n",
    "# There were 64 counties in LA in 2010.\n",
    "LA_2010.head()\n",
    "total_population_LA = LA_2010[\"population\"].sum()\n",
    "total_population_LA\n",
    "# LA population in 2010 as per this dataset was 4429940.\n",
    "NM_2010\n",
    "total_population_LA\n",
    "LA_counties_count\n",
    "\n",
    "total_population_LA"
   ]
  },
  {
   "cell_type": "markdown",
   "metadata": {},
   "source": [
    "# Mississippi\n"
   ]
  },
  {
   "cell_type": "code",
   "execution_count": 33,
   "metadata": {},
   "outputs": [
    {
     "data": {
      "text/plain": [
       "82"
      ]
     },
     "execution_count": 33,
     "metadata": {},
     "output_type": "execute_result"
    }
   ],
   "source": [
    "import pandas as pd\n",
    "\n",
    "data = pd.read_csv(\n",
    "    \"https://github.com/wpinvestigative/arcos-api/raw/master/data/pop_counties_20062014.csv\"\n",
    ")\n",
    "data.head()\n",
    "\n",
    "# Corrected line for filtering Texas and the year 2010\n",
    "MS_2010 = data[(data[\"BUYER_STATE\"] == \"MS\") & (data[\"year\"] == 2010)]\n",
    "\n",
    "MS_2010.head()\n",
    "MS_counties_count = MS_2010[\"COUNTY\"].nunique()\n",
    "MS_counties_count\n",
    "# There were 82 counties in MS in 2010.\n",
    "MS_2010.head()\n",
    "total_population_MS = MS_2010[\"population\"].sum()\n",
    "total_population_LA\n",
    "# MS population in 2010 as per this dataset was 2941991.\n",
    "MS_2010\n",
    "total_population_MS\n",
    "MS_counties_count\n",
    "\n",
    "total_population_MS\n",
    "MS_counties_count"
   ]
  },
  {
   "cell_type": "markdown",
   "metadata": {},
   "source": [
    "# Alabama"
   ]
  },
  {
   "cell_type": "code",
   "execution_count": 35,
   "metadata": {},
   "outputs": [
    {
     "data": {
      "text/plain": [
       "4712651"
      ]
     },
     "execution_count": 35,
     "metadata": {},
     "output_type": "execute_result"
    }
   ],
   "source": [
    "import pandas as pd\n",
    "\n",
    "data = pd.read_csv(\n",
    "    \"https://github.com/wpinvestigative/arcos-api/raw/master/data/pop_counties_20062014.csv\"\n",
    ")\n",
    "data.head()\n",
    "\n",
    "# Corrected line for filtering Texas and the year 2010\n",
    "AL_2010 = data[(data[\"BUYER_STATE\"] == \"AL\") & (data[\"year\"] == 2010)]\n",
    "\n",
    "AL_2010.head()\n",
    "AL_counties_count = AL_2010[\"COUNTY\"].nunique()\n",
    "AL_counties_count\n",
    "# There were 67 counties in AL in 2010.\n",
    "AL_2010.head()\n",
    "total_population_AL = AL_2010[\"population\"].sum()\n",
    "total_population_AL\n",
    "# AL population in 2010 as per this dataset was 4712651.\n",
    "MS_2010\n",
    "total_population_AL\n",
    "AL_counties_count\n",
    "\n",
    "total_population_AL\n",
    "AL_counties_count\n",
    "total_population_AL"
   ]
  },
  {
   "cell_type": "markdown",
   "metadata": {},
   "source": [
    "# ROUTES\n",
    "TEXAS -https://www.justice.gov/archive/ndic/pubs5/5624/5624p.pdf (Arizona connection)\n",
    "https://www.justice.gov/archive/ndic/pubs5/5624/overview.htm#:~:text=DTOs%20and%20criminal%20groups%20generally,other%20regions%20of%20the%20country.\n",
    "Alabama - https://druguse.alabama.gov/assets/files/2023AlabamaDrugThreatAssessment.pdf mexico\n",
    "MIssissipi - https://www.dps.ms.gov/sites/dps/files/2022%20MBN%20DRUG%20THREAT%20ASSESSMENT%20-%20Final.pdf (Shares with Florida - i-10) (2002)\n",
    "Louisiana - https://www.justice.gov/archive/ndic/pubs0/666/666p.pdf dominican rep(Heroin opioid) and mexico\n",
    "New Mexico - https://www.justice.gov/archive/ndic/pubs07/803/803p.pdf - Page 10 texas\n",
    "Arizona - https://www.justice.gov/archive/ndic/pubs6/6384/6384p.pdf Same route ad FL and opium almost entirely produced in South and East/west Asia\n",
    "\n",
    "Louisiana, New Mex, Alabama\n",
    "\n",
    "\n"
   ]
  }
 ],
 "metadata": {
  "kernelspec": {
   "display_name": "base",
   "language": "python",
   "name": "python3"
  },
  "language_info": {
   "codemirror_mode": {
    "name": "ipython",
    "version": 3
   },
   "file_extension": ".py",
   "mimetype": "text/x-python",
   "name": "python",
   "nbconvert_exporter": "python",
   "pygments_lexer": "ipython3",
   "version": "3.11.5"
  }
 },
 "nbformat": 4,
 "nbformat_minor": 2
}
