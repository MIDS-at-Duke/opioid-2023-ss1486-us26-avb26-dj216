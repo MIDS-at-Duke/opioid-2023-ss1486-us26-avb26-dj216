{
 "cells": [
  {
   "cell_type": "code",
   "execution_count": 2,
   "metadata": {},
   "outputs": [],
   "source": [
    "import pandas as pd"
   ]
  },
  {
   "cell_type": "code",
   "execution_count": 3,
   "metadata": {},
   "outputs": [],
   "source": [
    "data = pd.read_parquet(\"three_states_2.parquet\", engine=\"pyarrow\")"
   ]
  },
  {
   "cell_type": "code",
   "execution_count": 4,
   "metadata": {},
   "outputs": [
    {
     "data": {
      "text/html": [
       "<div>\n",
       "<style scoped>\n",
       "    .dataframe tbody tr th:only-of-type {\n",
       "        vertical-align: middle;\n",
       "    }\n",
       "\n",
       "    .dataframe tbody tr th {\n",
       "        vertical-align: top;\n",
       "    }\n",
       "\n",
       "    .dataframe thead th {\n",
       "        text-align: right;\n",
       "    }\n",
       "</style>\n",
       "<table border=\"1\" class=\"dataframe\">\n",
       "  <thead>\n",
       "    <tr style=\"text-align: right;\">\n",
       "      <th></th>\n",
       "      <th>BUYER_COUNTY</th>\n",
       "      <th>BUYER_STATE</th>\n",
       "      <th>TRANSACTION_DATE</th>\n",
       "      <th>CALC_BASE_WT_IN_GM</th>\n",
       "      <th>MME</th>\n",
       "    </tr>\n",
       "  </thead>\n",
       "  <tbody>\n",
       "    <tr>\n",
       "      <th>0</th>\n",
       "      <td>WILLIAMSON</td>\n",
       "      <td>TX</td>\n",
       "      <td>2019-01-31</td>\n",
       "      <td>26.8950</td>\n",
       "      <td>40342.50</td>\n",
       "    </tr>\n",
       "    <tr>\n",
       "      <th>1</th>\n",
       "      <td>BEXAR</td>\n",
       "      <td>TX</td>\n",
       "      <td>2019-01-25</td>\n",
       "      <td>18.1620</td>\n",
       "      <td>18162.00</td>\n",
       "    </tr>\n",
       "    <tr>\n",
       "      <th>2</th>\n",
       "      <td>HARDIN</td>\n",
       "      <td>TX</td>\n",
       "      <td>2019-01-25</td>\n",
       "      <td>3.0270</td>\n",
       "      <td>3027.00</td>\n",
       "    </tr>\n",
       "    <tr>\n",
       "      <th>3</th>\n",
       "      <td>MONTGOMERY</td>\n",
       "      <td>TX</td>\n",
       "      <td>2019-01-25</td>\n",
       "      <td>6.0540</td>\n",
       "      <td>6054.00</td>\n",
       "    </tr>\n",
       "    <tr>\n",
       "      <th>4</th>\n",
       "      <td>VAN ZANDT</td>\n",
       "      <td>TX</td>\n",
       "      <td>2019-01-25</td>\n",
       "      <td>3.0270</td>\n",
       "      <td>3027.00</td>\n",
       "    </tr>\n",
       "    <tr>\n",
       "      <th>5</th>\n",
       "      <td>LIBERTY</td>\n",
       "      <td>TX</td>\n",
       "      <td>2019-01-25</td>\n",
       "      <td>6.0540</td>\n",
       "      <td>6054.00</td>\n",
       "    </tr>\n",
       "    <tr>\n",
       "      <th>6</th>\n",
       "      <td>LIBERTY</td>\n",
       "      <td>TX</td>\n",
       "      <td>2019-01-25</td>\n",
       "      <td>6.0540</td>\n",
       "      <td>6054.00</td>\n",
       "    </tr>\n",
       "    <tr>\n",
       "      <th>7</th>\n",
       "      <td>SMITH</td>\n",
       "      <td>TX</td>\n",
       "      <td>2019-02-11</td>\n",
       "      <td>2.6895</td>\n",
       "      <td>4034.25</td>\n",
       "    </tr>\n",
       "    <tr>\n",
       "      <th>8</th>\n",
       "      <td>CHAMBERS</td>\n",
       "      <td>TX</td>\n",
       "      <td>2019-02-11</td>\n",
       "      <td>3.0270</td>\n",
       "      <td>3027.00</td>\n",
       "    </tr>\n",
       "    <tr>\n",
       "      <th>9</th>\n",
       "      <td>HUNT</td>\n",
       "      <td>TX</td>\n",
       "      <td>2019-02-11</td>\n",
       "      <td>3.0270</td>\n",
       "      <td>3027.00</td>\n",
       "    </tr>\n",
       "  </tbody>\n",
       "</table>\n",
       "</div>"
      ],
      "text/plain": [
       "  BUYER_COUNTY BUYER_STATE TRANSACTION_DATE  CALC_BASE_WT_IN_GM       MME\n",
       "0   WILLIAMSON          TX       2019-01-31             26.8950  40342.50\n",
       "1        BEXAR          TX       2019-01-25             18.1620  18162.00\n",
       "2       HARDIN          TX       2019-01-25              3.0270   3027.00\n",
       "3   MONTGOMERY          TX       2019-01-25              6.0540   6054.00\n",
       "4    VAN ZANDT          TX       2019-01-25              3.0270   3027.00\n",
       "5      LIBERTY          TX       2019-01-25              6.0540   6054.00\n",
       "6      LIBERTY          TX       2019-01-25              6.0540   6054.00\n",
       "7        SMITH          TX       2019-02-11              2.6895   4034.25\n",
       "8     CHAMBERS          TX       2019-02-11              3.0270   3027.00\n",
       "9         HUNT          TX       2019-02-11              3.0270   3027.00"
      ]
     },
     "execution_count": 4,
     "metadata": {},
     "output_type": "execute_result"
    }
   ],
   "source": [
    "data.head(10)"
   ]
  },
  {
   "cell_type": "code",
   "execution_count": 5,
   "metadata": {},
   "outputs": [
    {
     "data": {
      "text/plain": [
       "array(['TX', 'WA', 'FL'], dtype=object)"
      ]
     },
     "execution_count": 5,
     "metadata": {},
     "output_type": "execute_result"
    }
   ],
   "source": [
    "data[\"BUYER_STATE\"].unique()"
   ]
  },
  {
   "cell_type": "code",
   "execution_count": 9,
   "metadata": {},
   "outputs": [],
   "source": [
    "unique_counties = data.groupby(\"BUYER_STATE\")[\"BUYER_COUNTY\"].unique().to_frame()"
   ]
  },
  {
   "cell_type": "code",
   "execution_count": 12,
   "metadata": {},
   "outputs": [
    {
     "data": {
      "text/plain": [
       "array(['SAINT JOHNS', 'PALM BEACH', 'DUVAL', 'MARION', 'LEE', 'BROWARD',\n",
       "       'PINELLAS', 'VOLUSIA', 'LEON', 'LAKE', 'POLK', 'ORANGE',\n",
       "       'HILLSBOROUGH', 'CHARLOTTE', 'PUTNAM', 'HERNANDO', 'OKEECHOBEE',\n",
       "       'BREVARD', 'LEVY', 'SARASOTA', 'DE SOTO', 'MANATEE', 'COLLIER',\n",
       "       'SEMINOLE', 'JACKSON', 'PASCO', 'MIAMI-DADE', 'MARTIN',\n",
       "       'SAINT LUCIE', 'BAY', 'FLAGLER', 'ALACHUA', 'CLAY', 'NASSAU',\n",
       "       'ESCAMBIA', 'SANTA ROSA', 'WALTON', 'OKALOOSA', 'INDIAN RIVER',\n",
       "       'CITRUS', 'SUMTER', 'OSCEOLA', 'HIGHLANDS', 'TAYLOR', 'SUWANNEE',\n",
       "       'HENDRY', 'MONROE', 'HOLMES', 'WAKULLA', 'COLUMBIA', 'WASHINGTON',\n",
       "       'GADSDEN', 'GULF', 'HARDEE', 'GILCHRIST', 'CALHOUN', 'BAKER',\n",
       "       'BRADFORD', 'LIBERTY', 'DIXIE', 'MADISON', 'LAFAYETTE', 'UNION',\n",
       "       'FRANKLIN', 'JEFFERSON', 'HAMILTON', 'GLADES', None], dtype=object)"
      ]
     },
     "execution_count": 12,
     "metadata": {},
     "output_type": "execute_result"
    }
   ],
   "source": [
    "unique_counties.iloc[0][0]"
   ]
  },
  {
   "cell_type": "code",
   "execution_count": 13,
   "metadata": {},
   "outputs": [
    {
     "data": {
      "text/plain": [
       "BUYER_COUNTY           object\n",
       "BUYER_STATE            object\n",
       "TRANSACTION_DATE       object\n",
       "CALC_BASE_WT_IN_GM    float64\n",
       "MME                   float64\n",
       "dtype: object"
      ]
     },
     "execution_count": 13,
     "metadata": {},
     "output_type": "execute_result"
    }
   ],
   "source": [
    "data.dtypes"
   ]
  },
  {
   "cell_type": "markdown",
   "metadata": {},
   "source": [
    "Create a datetime variable and add new year column"
   ]
  },
  {
   "cell_type": "code",
   "execution_count": 14,
   "metadata": {},
   "outputs": [],
   "source": [
    "data[\"TRANSACTION_DATE\"] = pd.to_datetime(data[\"TRANSACTION_DATE\"])"
   ]
  },
  {
   "cell_type": "code",
   "execution_count": 15,
   "metadata": {},
   "outputs": [],
   "source": [
    "data[\"TRANSACTION_YEAR\"] = data[\"TRANSACTION_DATE\"].dt.year"
   ]
  },
  {
   "cell_type": "code",
   "execution_count": 16,
   "metadata": {},
   "outputs": [
    {
     "data": {
      "text/html": [
       "<div>\n",
       "<style scoped>\n",
       "    .dataframe tbody tr th:only-of-type {\n",
       "        vertical-align: middle;\n",
       "    }\n",
       "\n",
       "    .dataframe tbody tr th {\n",
       "        vertical-align: top;\n",
       "    }\n",
       "\n",
       "    .dataframe thead th {\n",
       "        text-align: right;\n",
       "    }\n",
       "</style>\n",
       "<table border=\"1\" class=\"dataframe\">\n",
       "  <thead>\n",
       "    <tr style=\"text-align: right;\">\n",
       "      <th></th>\n",
       "      <th>BUYER_COUNTY</th>\n",
       "      <th>BUYER_STATE</th>\n",
       "      <th>TRANSACTION_DATE</th>\n",
       "      <th>CALC_BASE_WT_IN_GM</th>\n",
       "      <th>MME</th>\n",
       "      <th>TRANSACTION_YEAR</th>\n",
       "    </tr>\n",
       "  </thead>\n",
       "  <tbody>\n",
       "    <tr>\n",
       "      <th>0</th>\n",
       "      <td>WILLIAMSON</td>\n",
       "      <td>TX</td>\n",
       "      <td>2019-01-31</td>\n",
       "      <td>26.8950</td>\n",
       "      <td>40342.50</td>\n",
       "      <td>2019</td>\n",
       "    </tr>\n",
       "    <tr>\n",
       "      <th>1</th>\n",
       "      <td>BEXAR</td>\n",
       "      <td>TX</td>\n",
       "      <td>2019-01-25</td>\n",
       "      <td>18.1620</td>\n",
       "      <td>18162.00</td>\n",
       "      <td>2019</td>\n",
       "    </tr>\n",
       "    <tr>\n",
       "      <th>2</th>\n",
       "      <td>HARDIN</td>\n",
       "      <td>TX</td>\n",
       "      <td>2019-01-25</td>\n",
       "      <td>3.0270</td>\n",
       "      <td>3027.00</td>\n",
       "      <td>2019</td>\n",
       "    </tr>\n",
       "    <tr>\n",
       "      <th>3</th>\n",
       "      <td>MONTGOMERY</td>\n",
       "      <td>TX</td>\n",
       "      <td>2019-01-25</td>\n",
       "      <td>6.0540</td>\n",
       "      <td>6054.00</td>\n",
       "      <td>2019</td>\n",
       "    </tr>\n",
       "    <tr>\n",
       "      <th>4</th>\n",
       "      <td>VAN ZANDT</td>\n",
       "      <td>TX</td>\n",
       "      <td>2019-01-25</td>\n",
       "      <td>3.0270</td>\n",
       "      <td>3027.00</td>\n",
       "      <td>2019</td>\n",
       "    </tr>\n",
       "    <tr>\n",
       "      <th>5</th>\n",
       "      <td>LIBERTY</td>\n",
       "      <td>TX</td>\n",
       "      <td>2019-01-25</td>\n",
       "      <td>6.0540</td>\n",
       "      <td>6054.00</td>\n",
       "      <td>2019</td>\n",
       "    </tr>\n",
       "    <tr>\n",
       "      <th>6</th>\n",
       "      <td>LIBERTY</td>\n",
       "      <td>TX</td>\n",
       "      <td>2019-01-25</td>\n",
       "      <td>6.0540</td>\n",
       "      <td>6054.00</td>\n",
       "      <td>2019</td>\n",
       "    </tr>\n",
       "    <tr>\n",
       "      <th>7</th>\n",
       "      <td>SMITH</td>\n",
       "      <td>TX</td>\n",
       "      <td>2019-02-11</td>\n",
       "      <td>2.6895</td>\n",
       "      <td>4034.25</td>\n",
       "      <td>2019</td>\n",
       "    </tr>\n",
       "    <tr>\n",
       "      <th>8</th>\n",
       "      <td>CHAMBERS</td>\n",
       "      <td>TX</td>\n",
       "      <td>2019-02-11</td>\n",
       "      <td>3.0270</td>\n",
       "      <td>3027.00</td>\n",
       "      <td>2019</td>\n",
       "    </tr>\n",
       "    <tr>\n",
       "      <th>9</th>\n",
       "      <td>HUNT</td>\n",
       "      <td>TX</td>\n",
       "      <td>2019-02-11</td>\n",
       "      <td>3.0270</td>\n",
       "      <td>3027.00</td>\n",
       "      <td>2019</td>\n",
       "    </tr>\n",
       "  </tbody>\n",
       "</table>\n",
       "</div>"
      ],
      "text/plain": [
       "  BUYER_COUNTY BUYER_STATE TRANSACTION_DATE  CALC_BASE_WT_IN_GM       MME  \\\n",
       "0   WILLIAMSON          TX       2019-01-31             26.8950  40342.50   \n",
       "1        BEXAR          TX       2019-01-25             18.1620  18162.00   \n",
       "2       HARDIN          TX       2019-01-25              3.0270   3027.00   \n",
       "3   MONTGOMERY          TX       2019-01-25              6.0540   6054.00   \n",
       "4    VAN ZANDT          TX       2019-01-25              3.0270   3027.00   \n",
       "5      LIBERTY          TX       2019-01-25              6.0540   6054.00   \n",
       "6      LIBERTY          TX       2019-01-25              6.0540   6054.00   \n",
       "7        SMITH          TX       2019-02-11              2.6895   4034.25   \n",
       "8     CHAMBERS          TX       2019-02-11              3.0270   3027.00   \n",
       "9         HUNT          TX       2019-02-11              3.0270   3027.00   \n",
       "\n",
       "   TRANSACTION_YEAR  \n",
       "0              2019  \n",
       "1              2019  \n",
       "2              2019  \n",
       "3              2019  \n",
       "4              2019  \n",
       "5              2019  \n",
       "6              2019  \n",
       "7              2019  \n",
       "8              2019  \n",
       "9              2019  "
      ]
     },
     "execution_count": 16,
     "metadata": {},
     "output_type": "execute_result"
    }
   ],
   "source": [
    "data.head(10)"
   ]
  },
  {
   "cell_type": "markdown",
   "metadata": {},
   "source": [
    "##  Death data"
   ]
  },
  {
   "cell_type": "code",
   "execution_count": 36,
   "metadata": {},
   "outputs": [],
   "source": [
    "import os\n",
    "\n",
    "\n",
    "def replace_in_files(folder_path, old_text, new_text):\n",
    "    for filename in os.listdir(folder_path):\n",
    "        if filename.endswith(\".txt\"):\n",
    "            file_path = os.path.join(folder_path, filename)\n",
    "            with open(file_path, \"r\") as file:\n",
    "                filedata = file.read()\n",
    "\n",
    "            # Replace the target string\n",
    "            filedata = filedata.replace(old_text, new_text)\n",
    "\n",
    "            # Write the file out again\n",
    "            with open(file_path, \"w\") as file:\n",
    "                file.write(filedata)\n",
    "\n",
    "\n",
    "# Replace 'your_folder_path' with the path of the folder containing your text files\n",
    "folder_path = \"/Users/udyansachdev/Downloads/US_VitalStatistics\"\n",
    "\n",
    "# Replace 'abcd' with the old text you want to replace, and 'ram' with the new text\n",
    "old_text = \"\"\"---\"\n",
    "\"Dataset: Underlying Cause of Death, 1999-2017\"\n",
    "\"Query Parameters:\"\n",
    "\"Group By: County; Year; Drug/Alcohol Induced Cause\"\n",
    "\"Show Totals: Disabled\"\n",
    "\"Show Zero Values: Disabled\"\n",
    "\"Show Suppressed: False\"\n",
    "\"---\"\n",
    "\"Help: See http://wonder.cdc.gov/wonder/help/ucd.html for more information.\"\n",
    "\"---\"\n",
    "\"Suggested Citation: Centers for Disease Control and Prevention, National Center for Health Statistics. Underlying Cause of Death\"\n",
    "\"1999-2017 on CDC WONDER Online Database, released December, 2018. Data are from the Multiple Cause of Death Files, 1999-2017, as\"\n",
    "\"compiled from data provided by the 57 vital statistics jurisdictions through the Vital Statistics Cooperative Program. Accessed\"\n",
    "\"at http://wonder.cdc.gov/ucd-icd10.html on Oct 1, 2019 2:59:43 PM\"\n",
    "\"---\"\"\"\n",
    "new_text = \"\"\n",
    "\n",
    "replace_in_files(folder_path, old_text, new_text)"
   ]
  },
  {
   "cell_type": "code",
   "execution_count": 37,
   "metadata": {},
   "outputs": [],
   "source": [
    "import os\n",
    "\n",
    "\n",
    "def merge_text_files(folder_path, output_file):\n",
    "    with open(output_file, \"w\") as outfile:\n",
    "        for filename in os.listdir(folder_path):\n",
    "            if filename.endswith(\".txt\"):\n",
    "                file_path = os.path.join(folder_path, filename)\n",
    "                with open(file_path, \"r\") as infile:\n",
    "                    outfile.write(infile.read())\n",
    "\n",
    "\n",
    "# Replace 'your_folder_path' with the path of the folder containing your text files\n",
    "folder_path = \"/Users/udyansachdev/Downloads/US_VitalStatistics\"\n",
    "\n",
    "# Replace 'output.txt' with the desired name for the merged file\n",
    "output_file = \"output.txt\"\n",
    "\n",
    "merge_text_files(folder_path, output_file)"
   ]
  },
  {
   "cell_type": "code",
   "execution_count": 38,
   "metadata": {},
   "outputs": [
    {
     "name": "stdout",
     "output_type": "stream",
     "text": [
      "The contents have been successfully saved in output.csv\n"
     ]
    }
   ],
   "source": [
    "import csv\n",
    "import re\n",
    "\n",
    "# Read the contents of the text file\n",
    "with open(\"output.txt\", \"r\", encoding=\"utf-8\") as f:\n",
    "    data = f.read()\n",
    "\n",
    "# Specify the CSV file name\n",
    "csv_file_name = \"output.csv\"\n",
    "\n",
    "# Use a regular expression to split lines based on spaces (adjust the pattern accordingly)\n",
    "pattern = re.compile(r\"\\s+\")\n",
    "\n",
    "# Write the contents to a CSV file\n",
    "with open(csv_file_name, \"w\", newline=\"\", encoding=\"utf-8\") as csv_file:\n",
    "    csv_writer = csv.writer(csv_file)\n",
    "\n",
    "    # Write each line as a row in the CSV file\n",
    "    for line in data.split(\"\\n\"):\n",
    "        csv_writer.writerow(pattern.split(line.strip()))\n",
    "\n",
    "print(f\"The contents have been successfully saved in {csv_file_name}\")"
   ]
  },
  {
   "cell_type": "code",
   "execution_count": 39,
   "metadata": {},
   "outputs": [],
   "source": [
    "df = pd.read_csv(\n",
    "    \"output.txt\", sep=r\"\\t\", encoding=\"utf-8\", engine=\"python\"\n",
    ").reset_index(drop=True)"
   ]
  },
  {
   "cell_type": "code",
   "execution_count": 40,
   "metadata": {},
   "outputs": [],
   "source": [
    "df = df.loc[:57432]"
   ]
  },
  {
   "cell_type": "code",
   "execution_count": 41,
   "metadata": {},
   "outputs": [],
   "source": [
    "colnames = list(df.columns.values)[1:]"
   ]
  },
  {
   "cell_type": "code",
   "execution_count": 42,
   "metadata": {},
   "outputs": [],
   "source": [
    "df = df.drop(\"Deaths\", axis=1)"
   ]
  },
  {
   "cell_type": "code",
   "execution_count": 43,
   "metadata": {},
   "outputs": [],
   "source": [
    "df.columns = colnames"
   ]
  },
  {
   "cell_type": "code",
   "execution_count": 48,
   "metadata": {},
   "outputs": [],
   "source": [
    "df = df[df.County != '\"\"']\n",
    "df = df[df.County != \"Notes\"]"
   ]
  },
  {
   "cell_type": "code",
   "execution_count": 49,
   "metadata": {},
   "outputs": [
    {
     "data": {
      "text/plain": [
       "40"
      ]
     },
     "execution_count": 49,
     "metadata": {},
     "output_type": "execute_result"
    }
   ],
   "source": [
    "# Missing value of death\n",
    "df[\"Deaths\"].value_counts()[\"Missing\"]"
   ]
  },
  {
   "cell_type": "markdown",
   "metadata": {},
   "source": [
    "##### Death number as 999 need to be corrected"
   ]
  },
  {
   "cell_type": "code",
   "execution_count": 53,
   "metadata": {},
   "outputs": [],
   "source": [
    "df.to_csv(\"US_Vital_Stats_Deaths.csv\", index=False)"
   ]
  }
 ],
 "metadata": {
  "kernelspec": {
   "display_name": "base",
   "language": "python",
   "name": "python3"
  },
  "language_info": {
   "codemirror_mode": {
    "name": "ipython",
    "version": 3
   },
   "file_extension": ".py",
   "mimetype": "text/x-python",
   "name": "python",
   "nbconvert_exporter": "python",
   "pygments_lexer": "ipython3",
   "version": "3.11.4"
  },
  "orig_nbformat": 4
 },
 "nbformat": 4,
 "nbformat_minor": 2
}
