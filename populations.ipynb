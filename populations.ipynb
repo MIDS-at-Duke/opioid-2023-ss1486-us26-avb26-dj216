{
 "cells": [
  {
   "cell_type": "code",
   "execution_count": 1,
   "metadata": {},
   "outputs": [],
   "source": [
    "import pandas as pd"
   ]
  },
  {
   "cell_type": "code",
   "execution_count": 2,
   "metadata": {},
   "outputs": [],
   "source": [
    "data = pd.read_csv('https://github.com/wpinvestigative/arcos-api/raw/master/data/pop_counties_20062014.csv')"
   ]
  },
  {
   "cell_type": "code",
   "execution_count": 3,
   "metadata": {},
   "outputs": [
    {
     "data": {
      "text/html": [
       "<div>\n",
       "<style scoped>\n",
       "    .dataframe tbody tr th:only-of-type {\n",
       "        vertical-align: middle;\n",
       "    }\n",
       "\n",
       "    .dataframe tbody tr th {\n",
       "        vertical-align: top;\n",
       "    }\n",
       "\n",
       "    .dataframe thead th {\n",
       "        text-align: right;\n",
       "    }\n",
       "</style>\n",
       "<table border=\"1\" class=\"dataframe\">\n",
       "  <thead>\n",
       "    <tr style=\"text-align: right;\">\n",
       "      <th></th>\n",
       "      <th>BUYER_COUNTY</th>\n",
       "      <th>BUYER_STATE</th>\n",
       "      <th>countyfips</th>\n",
       "      <th>STATE</th>\n",
       "      <th>COUNTY</th>\n",
       "      <th>county_name</th>\n",
       "      <th>NAME</th>\n",
       "      <th>variable</th>\n",
       "      <th>year</th>\n",
       "      <th>population</th>\n",
       "    </tr>\n",
       "  </thead>\n",
       "  <tbody>\n",
       "    <tr>\n",
       "      <th>0</th>\n",
       "      <td>AUTAUGA</td>\n",
       "      <td>AL</td>\n",
       "      <td>1001</td>\n",
       "      <td>1</td>\n",
       "      <td>1</td>\n",
       "      <td>Autauga</td>\n",
       "      <td>Autauga County, Alabama</td>\n",
       "      <td>B01003_001</td>\n",
       "      <td>2006</td>\n",
       "      <td>51328</td>\n",
       "    </tr>\n",
       "    <tr>\n",
       "      <th>1</th>\n",
       "      <td>BALDWIN</td>\n",
       "      <td>AL</td>\n",
       "      <td>1003</td>\n",
       "      <td>1</td>\n",
       "      <td>3</td>\n",
       "      <td>Baldwin</td>\n",
       "      <td>Baldwin County, Alabama</td>\n",
       "      <td>B01003_001</td>\n",
       "      <td>2006</td>\n",
       "      <td>168121</td>\n",
       "    </tr>\n",
       "    <tr>\n",
       "      <th>2</th>\n",
       "      <td>BARBOUR</td>\n",
       "      <td>AL</td>\n",
       "      <td>1005</td>\n",
       "      <td>1</td>\n",
       "      <td>5</td>\n",
       "      <td>Barbour</td>\n",
       "      <td>Barbour County, Alabama</td>\n",
       "      <td>B01003_001</td>\n",
       "      <td>2006</td>\n",
       "      <td>27861</td>\n",
       "    </tr>\n",
       "    <tr>\n",
       "      <th>3</th>\n",
       "      <td>BIBB</td>\n",
       "      <td>AL</td>\n",
       "      <td>1007</td>\n",
       "      <td>1</td>\n",
       "      <td>7</td>\n",
       "      <td>Bibb</td>\n",
       "      <td>Bibb County, Alabama</td>\n",
       "      <td>B01003_001</td>\n",
       "      <td>2006</td>\n",
       "      <td>22099</td>\n",
       "    </tr>\n",
       "    <tr>\n",
       "      <th>4</th>\n",
       "      <td>BLOUNT</td>\n",
       "      <td>AL</td>\n",
       "      <td>1009</td>\n",
       "      <td>1</td>\n",
       "      <td>9</td>\n",
       "      <td>Blount</td>\n",
       "      <td>Blount County, Alabama</td>\n",
       "      <td>B01003_001</td>\n",
       "      <td>2006</td>\n",
       "      <td>55485</td>\n",
       "    </tr>\n",
       "  </tbody>\n",
       "</table>\n",
       "</div>"
      ],
      "text/plain": [
       "  BUYER_COUNTY BUYER_STATE  countyfips  STATE  COUNTY county_name  \\\n",
       "0      AUTAUGA          AL        1001      1       1     Autauga   \n",
       "1      BALDWIN          AL        1003      1       3     Baldwin   \n",
       "2      BARBOUR          AL        1005      1       5     Barbour   \n",
       "3         BIBB          AL        1007      1       7        Bibb   \n",
       "4       BLOUNT          AL        1009      1       9      Blount   \n",
       "\n",
       "                      NAME    variable  year  population  \n",
       "0  Autauga County, Alabama  B01003_001  2006       51328  \n",
       "1  Baldwin County, Alabama  B01003_001  2006      168121  \n",
       "2  Barbour County, Alabama  B01003_001  2006       27861  \n",
       "3     Bibb County, Alabama  B01003_001  2006       22099  \n",
       "4   Blount County, Alabama  B01003_001  2006       55485  "
      ]
     },
     "execution_count": 3,
     "metadata": {},
     "output_type": "execute_result"
    }
   ],
   "source": [
    "data.head()"
   ]
  },
  {
   "cell_type": "code",
   "execution_count": null,
   "metadata": {},
   "outputs": [],
   "source": [
    "data.to_csv('populations.csv', index=False)"
   ]
  }
 ],
 "metadata": {
  "kernelspec": {
   "display_name": "Python 3",
   "language": "python",
   "name": "python3"
  },
  "language_info": {
   "codemirror_mode": {
    "name": "ipython",
    "version": 3
   },
   "file_extension": ".py",
   "mimetype": "text/x-python",
   "name": "python",
   "nbconvert_exporter": "python",
   "pygments_lexer": "ipython3",
   "version": "3.10.8"
  }
 },
 "nbformat": 4,
 "nbformat_minor": 2
}
