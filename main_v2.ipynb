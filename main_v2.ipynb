{
 "cells": [
  {
   "cell_type": "code",
   "execution_count": 1,
   "metadata": {},
   "outputs": [],
   "source": [
    "import pandas as pd "
   ]
  },
  {
   "cell_type": "code",
   "execution_count": 2,
   "metadata": {},
   "outputs": [],
   "source": [
    "with open('pop_data_cdc.txt', 'r') as file:\n",
    "  filedata = file.read()\n",
    "\n",
    "# Replace the target string\n",
    "filedata = filedata.replace(\"\"\"---\"\n",
    "\"Dataset: Bridged-Race Population Estimates 1990-2020\"\n",
    "\"Query Parameters:\"\n",
    "\"Yearly July 1st Estimates: 2003; 2004; 2005; 2006; 2007; 2008; 2009; 2010; 2011; 2012; 2013; 2014; 2015\"\n",
    "\"Group By: State; County; Yearly July 1st Estimates\"\n",
    "\"Show Totals: False\"\n",
    "\"Show Zero Values: True\"\n",
    "\"Data Table: Default\"\n",
    "\"---\"\n",
    "\"Help: See http://wonder.cdc.gov/wonder/help/bridged-race.html for more information.\"\n",
    "\"---\"\n",
    "\"Query Date: Nov 20, 2023 6:21:27 AM\"\n",
    "\"---\"\n",
    "\"Suggested Citation: United States Department of Health and Human Services (US DHHS), Centers for Disease Control and Prevention\"\n",
    "\"(CDC), National Center for Health Statistics (NCHS), Bridged-Race Population Estimates, United States July 1st resident\"\n",
    "\"population by state, county, age, sex, bridged-race, and Hispanic origin. Compiled from 1990-1999 bridged-race intercensal\"\n",
    "\"population estimates (released by NCHS on 7/26/2004); revised bridged-race 2000-2009 intercensal population estimates (released\"\n",
    "\"by NCHS on 10/26/2012); and bridged-race Vintage 2020 (2010-2020) postcensal population estimates (released by NCHS on\"\n",
    "\"9/22/2021). Available on CDC WONDER Online Database. Accessed at http://wonder.cdc.gov/bridged-race-v2020.html on Nov 20, 2023\"\n",
    "\"6:21:27 AM\"\n",
    "\"---\"\n",
    "Footnotes:\n",
    "\"1. Estimates for 1990-1999 are bridged-race intercensal population estimates of the July 1 resident population. Estimates for\"\n",
    "\"2000-2009 are revised bridged-race intercensal estimates of the July 1 resident population. Estimates for 2010-2020 are\"\n",
    "\"bridged-race Vintage 2020 postcensal estimates of the July 1 resident population. These estimates were prepared by the Census\"\n",
    "\"Bureau in collaboration with NCHS.\"\n",
    "\"2. Data are not available for this area for all of the requested years. See Caveats below for more information.\"\n",
    "\"3. Data discontinuity due to county line boundary changes in requested years. See Caveats below for more information.\"\n",
    "\"---\"\n",
    "Caveats:\n",
    "\"1. 'Missing' appears when county data is not available for a certain year. This occurs because geography changes over time. New\"\n",
    "\"counties are created and old counties are deleted or their boundaries are modified..\"\n",
    "\"2. County geography changes over time. New counties are created and old counties are deleted or their boundaries are modified.\"\n",
    "\"The county codes and names for years 1990-1999 are based on Census 2000 geography; those for year 2000 and later are based on\"\n",
    "\"Census 2010 geography.\"\n",
    "\"3. Chugach Census Area, AK, Alaska (FIPS code 02063) was created from the former Valdez-Cordova Census Area (FIPS code 02261)\"\n",
    "\"effective January 2, 2019. This change was made retroactive in the data to the year 2010. Therefore population estimates for\"\n",
    "\"Chugach Census Area are available for years 2010 and later.\"\n",
    "\"4. Copper River Census Area, AK, Alaska (FIPS code 02066) was created from the former Valdez-Cordova Census Area (FIPS code\"\n",
    "\"02261) effective January 2, 2019. This change was made retroactive in the data to the year 2010. Therefore population estimates\"\n",
    "\"for Copper River Census Area are available for years 2010 and later.\"\n",
    "\"5. Hoonah-Angoon Census Area, Alaska (FIPS code 02105) was created from the former Skagway-Hoonah-Angoon Census Area (FIPS code\"\n",
    "\"02232) effective June 20, 2007. This change was made retroactive in the data to the year 2000. Therefore population estimates\"\n",
    "\"for Hoonah-Angoon Census Area are available for years 2000 and later.\"\n",
    "\"6. Ketchikan Gateway Borough, Alaska (FIPS code 02130) annexed most of Outer Ketchikan from the former Prince of Wales-Outer\"\n",
    "\"Ketchikan Census Area (FIPS code 02201) effective May 19, 2008. This change was made retroactive in the data to the year 2000.\"\n",
    "\"Therefore Ketchikan Gateway Borough has a discontinuity in the population estimates between 1999 and 2000 due to the addition of\"\n",
    "\"population.\"\n",
    "\"7. About Petersburg Borough/Census Area, Alaska (FIPS code 02195): Petersburg Census Area was formed on June 1, 2008 from part\"\n",
    "\"of the former Wrangell-Petersburg Census Area (FIPS code 02280). Effective January 3, 2013, Petersburg Census Area ceased to\"\n",
    "\"exist; Petersburg Borough (same FIPS code 02195) was formed from part of Petersburg Census Area and part of Hoonah-Angoon Census\"\n",
    "\"Area (02105). Population estimates for Petersburg Census Area are shown for years 2000-2009. Population estimates for Petersburg\"\n",
    "\"Borough are shown for years after 2010.\"\n",
    "\"8. Prince of Wales-Hyder Census Area, Alaska (FIPS code 02198) was formed on June 1, 2008 from part of the former Prince of\"\n",
    "\"Wales-Outer Ketchikan Census Area (FIPS code 02201). This change was made retroactive in the data to the year 2000. Therefore\"\n",
    "\"population estimates for Prince of Wales-Hyder Census Area are available for years 2000 and later.\"\n",
    "\"9. Prince of Wales-Outer Ketchikan Census Area, Alaska (FIPS code 02201) ceased to exist effective June 1, 2008. The Outer\"\n",
    "\"Ketchikan area was annexed by the Ketchikan Gateway Borough (FIPS code 02130), part was included in Wrangell City and Borough\"\n",
    "\"(FIPS code 02275), and the remainder was renamed Prince of Wales-Hyder Census Area (FIPS code 02198). This change was made\"\n",
    "\"retroactive in the data to the year 2000. Therefore population estimates for Prince of Wales-Outer Ketchikan Census Area are\"\n",
    "\"only available for the years 1990-1999.\"\n",
    "\"10. Skagway Municipality, Alaska (FIPS code 02230) was created from the former Skagway-Hoonah-Angoon Census Area (FIPS code\"\n",
    "\"02232) effective June 20, 2007. This change was made retroactive in the data to the year 2000. Therefore population estimates\"\n",
    "\"for Skagway Municipality are available for years 2000 and later.\"\n",
    "\"11. Skagway-Hoonah-Angoon Census Area, Alaska (FIPS code 02232) ceased to exist effective June 20, 2007. Skagway Municipality\"\n",
    "\"(FIPS code 02230) and Hoonah-Angoon Census Area (FIPS code 02105) were created from the former census area. This change was made\"\n",
    "\"retroactive in the data to the year 2000. Therefore population estimates for Skagway-Hoonah-Angoon Census Area are only\"\n",
    "\"available for the years 1990-1999.\"\n",
    "\"12. Valdez-Cordova Census Area, Alaska (FIPS code 02261) ceased to exist effective January 2, 2019. Chugach Census Area (FIPS\"\n",
    "\"code 02063) and Copper River Census Area (FIPS code 02066) were created from the former census area. This change was made\"\n",
    "\"retroactive in the data to the year 2010. Therefore population estimates for Valdez-Cordova Census Area are only available for\"\n",
    "\"the years 1990-2009.\"\n",
    "\"13. Wade Hampton Census Area, AK (02270) was renamed to Kusilvak Census Area, AK (02158) effective July 1, 2015. This change was\"\n",
    "\"made retroactive in the data to the year 1990.\"\n",
    "\"14. Wrangell City and Borough, Alaska (FIPS code 02275), was formed on June 1, 2008 from part of the former Wrangell-Petersburg\"\n",
    "\"Census Area (FIPS code 02280) and part of the former Prince of Wales-Outer Ketchikan Census Area (FIPS code 02201). This change\"\n",
    "\"was made retroactive in the data to the year 2000. Therefore population estimates for Wrangell City and Borough are available\"\n",
    "\"for years 2000 and later.\"\n",
    "\"15. Wrangell-Petersburg Census Area, Alaska (FIPS code 02280) ceased to exist effective June 1, 2008. Petersburg Census Area\"\n",
    "\"(FIPS code 02195) and Wrangell City and Borough (FIPS code 02275) were created from the former census area. This change was made\"\n",
    "\"retroactive in the data to the year 2000. Therefore population estimates for Wrangell-Petersburg Census Area are only available\"\n",
    "\"for the years 1990-1999.\"\n",
    "\"16. Broomfield County, Colorado (FIPS code 08014), was formed on November 15, 2001 from parts of Adams County (FIPS code 08001),\"\n",
    "\"Boulder County (FIPS code 08013), Jefferson County (FIPS code 08059), and Weld County (FIPS code 08123). This change was made\"\n",
    "\"retroactive in the data to the year 2000. Therefore population estimates for Broomfield county are available for the year 2000\"\n",
    "\"and later. The other counties have a discontinuity in the population estimates between 1999 and 2000 due to the loss of\"\n",
    "\"population.\"\n",
    "\"17. Shannon County, SD (46113) was renamed to Oglala Lakota County, SD (46102) effective July 1, 2015. This change was made\"\n",
    "\"retroactive in the data to the year 1990.\"\n",
    "\"18. Bedford City, Virginia (FIPS code 51515), formerly an independent city, merged with Bedford County (FIPS code 51019) on July\"\n",
    "\"1, 2013. This change was made retroactive in the data to the year 2010. Therefore population estimates for Bedford City are only\"\n",
    "\"available for the years 1990-2009, and Bedford County has a discontinuity in the population estimates between 2009 and 2010 due\"\n",
    "\"to the addition of population.\"\n",
    "\"19. Clifton Forge City, Virginia (FIPS code 51560), formerly an independent city, merged with Alleghany County (FIPS code 51005)\"\n",
    "\"on July 1, 2001. This change was made retroactive in the data to the year 2000. Therefore population estimates for Clifton Forge\"\n",
    "\"City are available only for the years prior to 2000. Alleghany County has a discontinuity in the population estimates between\"\n",
    "\"1999 and 2000 due to the addition of population.\"\n",
    "\"20. South Boston City, Virginia (FIPS code 51780), formerly an independent city, merged with Halifax County (FIPS code 51083) on\"\n",
    "\"June 30, 1995. This change was made retroactive in the data to the year 1990. Therefore, population data for South Boston City\"\n",
    "\"have been reported with Halifax County since year 1990.\"\"\", '')\n",
    "\n",
    "# Write the file out again\n",
    "with open('pop_data_cdc.txt', 'w') as file:\n",
    "  file.write(filedata)"
   ]
  },
  {
   "cell_type": "code",
   "execution_count": 3,
   "metadata": {},
   "outputs": [],
   "source": [
    "with open('pop_data_cdc.txt', 'r') as file:\n",
    "  filedata = file.read()\n",
    "\n",
    "# Replace the target string\n",
    "filedata = filedata.replace('\"', '')\n",
    "\n",
    "# Write the file out again\n",
    "with open('pop_data_cdc.txt', 'w') as file:\n",
    "  file.write(filedata)"
   ]
  },
  {
   "cell_type": "code",
   "execution_count": 4,
   "metadata": {},
   "outputs": [],
   "source": [
    "pop_data = pd.read_csv('pop_data_cdc.txt', delimiter='\\t')"
   ]
  },
  {
   "cell_type": "code",
   "execution_count": 5,
   "metadata": {},
   "outputs": [],
   "source": [
    "pop_data[['CTYNAME','STNAME']] = pop_data['County'].str.split(',', n=1, expand=True)\n"
   ]
  },
  {
   "cell_type": "code",
   "execution_count": 6,
   "metadata": {},
   "outputs": [],
   "source": [
    "pop_data['STNAME'] = pop_data['STNAME'].str.strip()\n"
   ]
  },
  {
   "cell_type": "code",
   "execution_count": 7,
   "metadata": {},
   "outputs": [],
   "source": [
    "deaths = pd.read_csv('US_Vital_Stats_Deaths.csv')\n",
    "deaths[['CTYNAME','STNAME']] = deaths['County'].str.split(',', n=1, expand=True)\n",
    "deaths['STNAME'] = deaths['STNAME'].str.strip()"
   ]
  },
  {
   "cell_type": "markdown",
   "metadata": {},
   "source": [
    "## Deleting Rows with missing data"
   ]
  },
  {
   "cell_type": "code",
   "execution_count": 8,
   "metadata": {},
   "outputs": [],
   "source": [
    "deaths = deaths[deaths.Deaths != 'Missing']\n",
    "pop_data = pop_data[pop_data.Population != 'Missing']"
   ]
  },
  {
   "cell_type": "code",
   "execution_count": 9,
   "metadata": {},
   "outputs": [
    {
     "data": {
      "text/plain": [
       "3145"
      ]
     },
     "execution_count": 9,
     "metadata": {},
     "output_type": "execute_result"
    }
   ],
   "source": [
    "len(pop_data.drop_duplicates(['CTYNAME','STNAME']).index)"
   ]
  },
  {
   "cell_type": "code",
   "execution_count": 10,
   "metadata": {},
   "outputs": [
    {
     "data": {
      "text/plain": [
       "3131"
      ]
     },
     "execution_count": 10,
     "metadata": {},
     "output_type": "execute_result"
    }
   ],
   "source": [
    "len(deaths.drop_duplicates(['CTYNAME','STNAME']).index)"
   ]
  },
  {
   "cell_type": "code",
   "execution_count": 11,
   "metadata": {},
   "outputs": [
    {
     "data": {
      "text/plain": [
       "array([2003, 2004, 2005, 2006, 2007, 2008, 2009, 2010, 2011, 2012, 2013,\n",
       "       2014, 2015])"
      ]
     },
     "execution_count": 11,
     "metadata": {},
     "output_type": "execute_result"
    }
   ],
   "source": [
    "pop_data['Yearly July 1st Estimates'].unique()"
   ]
  },
  {
   "cell_type": "code",
   "execution_count": 12,
   "metadata": {},
   "outputs": [
    {
     "data": {
      "text/plain": [
       "array([2009., 2008., 2003., 2014., 2015., 2005., 2011., 2010., 2004.,\n",
       "       2012., 2006., 2007., 2013.])"
      ]
     },
     "execution_count": 12,
     "metadata": {},
     "output_type": "execute_result"
    }
   ],
   "source": [
    "deaths['Year'].unique()"
   ]
  },
  {
   "cell_type": "code",
   "execution_count": 13,
   "metadata": {},
   "outputs": [
    {
     "data": {
      "text/plain": [
       "Index(['County', 'County Code', 'Year', 'Year Code',\n",
       "       'Drug/Alcohol Induced Cause', 'Drug/Alcohol Induced Cause Code',\n",
       "       'Deaths', 'CTYNAME', 'STNAME'],\n",
       "      dtype='object')"
      ]
     },
     "execution_count": 13,
     "metadata": {},
     "output_type": "execute_result"
    }
   ],
   "source": [
    "deaths.columns"
   ]
  },
  {
   "cell_type": "code",
   "execution_count": 14,
   "metadata": {},
   "outputs": [
    {
     "data": {
      "text/plain": [
       "Drug/Alcohol Induced Cause\n",
       "All other non-drug and non-alcohol causes             40332\n",
       "Drug poisonings (overdose) Unintentional (X40-X44)     7568\n",
       "All other alcohol-induced causes                       6118\n",
       "Drug poisonings (overdose) Suicide (X60-X64)           1460\n",
       "Drug poisonings (overdose) Undetermined (Y10-Y14)       756\n",
       "All other drug-induced causes                           623\n",
       "Alcohol poisonings (overdose) (X45, X65, Y15)           344\n",
       "Name: count, dtype: int64"
      ]
     },
     "execution_count": 14,
     "metadata": {},
     "output_type": "execute_result"
    }
   ],
   "source": [
    "deaths['Drug/Alcohol Induced Cause'].value_counts()"
   ]
  },
  {
   "cell_type": "code",
   "execution_count": 15,
   "metadata": {},
   "outputs": [],
   "source": [
    "deaths_subset = (deaths.loc[deaths['Drug/Alcohol Induced Cause'].isin(['Drug poisonings (overdose) Unintentional (X40-X44)','Drug poisonings (overdose) Suicide (X60-X64)'\n",
    "                                                                       ,'Drug poisonings (overdose) Undetermined (Y10-Y14)','All other drug-induced causes'])])"
   ]
  },
  {
   "cell_type": "code",
   "execution_count": 17,
   "metadata": {},
   "outputs": [
    {
     "data": {
      "text/plain": [
       "Drug/Alcohol Induced Cause\n",
       "Drug poisonings (overdose) Unintentional (X40-X44)    7568\n",
       "Drug poisonings (overdose) Suicide (X60-X64)          1460\n",
       "Drug poisonings (overdose) Undetermined (Y10-Y14)      756\n",
       "All other drug-induced causes                          623\n",
       "Name: count, dtype: int64"
      ]
     },
     "execution_count": 17,
     "metadata": {},
     "output_type": "execute_result"
    }
   ],
   "source": [
    "deaths_subset['Drug/Alcohol Induced Cause'].value_counts()"
   ]
  },
  {
   "cell_type": "code",
   "execution_count": 18,
   "metadata": {},
   "outputs": [
    {
     "data": {
      "text/plain": [
       "1043"
      ]
     },
     "execution_count": 18,
     "metadata": {},
     "output_type": "execute_result"
    }
   ],
   "source": [
    "len(deaths_subset.drop_duplicates(['CTYNAME','STNAME']).index)"
   ]
  },
  {
   "cell_type": "code",
   "execution_count": 16,
   "metadata": {},
   "outputs": [],
   "source": [
    "stats_abb = pd.read_csv('states_abb.csv')"
   ]
  },
  {
   "cell_type": "code",
   "execution_count": 17,
   "metadata": {},
   "outputs": [],
   "source": [
    "stats_abb = stats_abb.rename(columns={'Abbreviation': 'STNAME'})"
   ]
  },
  {
   "cell_type": "code",
   "execution_count": 18,
   "metadata": {},
   "outputs": [],
   "source": [
    "merge_data = pd.merge(deaths_subset,stats_abb,how='left',on='STNAME')"
   ]
  },
  {
   "cell_type": "code",
   "execution_count": 19,
   "metadata": {},
   "outputs": [],
   "source": [
    "pop_data = pop_data.rename(columns={'Yearly July 1st Estimates': 'Year'})\n"
   ]
  },
  {
   "cell_type": "code",
   "execution_count": 20,
   "metadata": {},
   "outputs": [],
   "source": [
    "final_merge = pd.merge(merge_data,pop_data,how='inner',on=['State','CTYNAME','Year'])"
   ]
  },
  {
   "cell_type": "code",
   "execution_count": 22,
   "metadata": {},
   "outputs": [],
   "source": [
    "final_merge['Deaths'] = final_merge['Deaths'].astype(float).astype(int)"
   ]
  },
  {
   "cell_type": "code",
   "execution_count": 26,
   "metadata": {},
   "outputs": [],
   "source": [
    "final_merge['Population'] = final_merge['Population'].astype(float).astype(int)"
   ]
  },
  {
   "cell_type": "code",
   "execution_count": 27,
   "metadata": {},
   "outputs": [
    {
     "data": {
      "text/plain": [
       "County_x                            object\n",
       "County Code_x                        int64\n",
       "Year                               float64\n",
       "Year Code                          float64\n",
       "Drug/Alcohol Induced Cause          object\n",
       "Drug/Alcohol Induced Cause Code     object\n",
       "Deaths                               int64\n",
       "CTYNAME                             object\n",
       "STNAME_x                            object\n",
       "State                               object\n",
       "Notes                              float64\n",
       "State Code                           int64\n",
       "County_y                            object\n",
       "County Code_y                        int64\n",
       "Yearly July 1st Estimates Code       int64\n",
       "Population                           int64\n",
       "STNAME_y                            object\n",
       "dtype: object"
      ]
     },
     "execution_count": 27,
     "metadata": {},
     "output_type": "execute_result"
    }
   ],
   "source": [
    "final_merge.dtypes"
   ]
  },
  {
   "cell_type": "code",
   "execution_count": 28,
   "metadata": {},
   "outputs": [],
   "source": [
    "final_merge['Mortality_Rate'] = final_merge['Deaths'] / final_merge['Population']"
   ]
  },
  {
   "cell_type": "code",
   "execution_count": 30,
   "metadata": {},
   "outputs": [
    {
     "data": {
      "text/plain": [
       "Index(['County_x', 'County Code_x', 'Year', 'Year Code',\n",
       "       'Drug/Alcohol Induced Cause', 'Drug/Alcohol Induced Cause Code',\n",
       "       'Deaths', 'CTYNAME', 'STNAME_x', 'State', 'Notes', 'State Code',\n",
       "       'County_y', 'County Code_y', 'Yearly July 1st Estimates Code',\n",
       "       'Population', 'STNAME_y', 'Mortality_Rate'],\n",
       "      dtype='object')"
      ]
     },
     "execution_count": 30,
     "metadata": {},
     "output_type": "execute_result"
    }
   ],
   "source": [
    "final_merge.columns"
   ]
  },
  {
   "cell_type": "code",
   "execution_count": 31,
   "metadata": {},
   "outputs": [],
   "source": [
    "final_merge = final_merge[['State','CTYNAME','Year','Drug/Alcohol Induced Cause','Deaths','Population','Mortality_Rate']]"
   ]
  },
  {
   "cell_type": "code",
   "execution_count": 32,
   "metadata": {},
   "outputs": [],
   "source": [
    "final_merge.to_csv('Mortality_Rate_Data.csv')"
   ]
  }
 ],
 "metadata": {
  "kernelspec": {
   "display_name": "Python 3",
   "language": "python",
   "name": "python3"
  },
  "language_info": {
   "codemirror_mode": {
    "name": "ipython",
    "version": 3
   },
   "file_extension": ".py",
   "mimetype": "text/x-python",
   "name": "python",
   "nbconvert_exporter": "python",
   "pygments_lexer": "ipython3",
   "version": "3.10.8"
  }
 },
 "nbformat": 4,
 "nbformat_minor": 2
}
